{
  "nbformat": 4,
  "nbformat_minor": 0,
  "metadata": {
    "colab": {
      "name": "suv_all classification methods.ipynb",
      "provenance": [],
      "mount_file_id": "1HNgC8XwFNtlJAAaRqHSDNN9VBAKw6DLV",
      "authorship_tag": "ABX9TyOlA4gRApCYP+2aOBRpO7CD",
      "include_colab_link": true
    },
    "kernelspec": {
      "name": "python3",
      "display_name": "Python 3"
    },
    "language_info": {
      "name": "python"
    }
  },
  "cells": [
    {
      "cell_type": "markdown",
      "metadata": {
        "id": "view-in-github",
        "colab_type": "text"
      },
      "source": [
        "<a href=\"https://colab.research.google.com/github/yash2046/2216101_bootcamp_ml-concepts/blob/main/suv_all_classification_methods.ipynb\" target=\"_parent\"><img src=\"https://colab.research.google.com/assets/colab-badge.svg\" alt=\"Open In Colab\"/></a>"
      ]
    },
    {
      "cell_type": "code",
      "execution_count": 1,
      "metadata": {
        "id": "PStwQ-2qVuNH"
      },
      "outputs": [],
      "source": [
        "import pandas as pd\n",
        "import numpy as np\n",
        "import matplotlib.pyplot as plt"
      ]
    },
    {
      "cell_type": "code",
      "source": [
        "df=pd.read_csv(\"/content/drive/MyDrive/SUV_Purchase.csv\")\n",
        "df.head()"
      ],
      "metadata": {
        "colab": {
          "base_uri": "https://localhost:8080/",
          "height": 206
        },
        "id": "D6Qbtt5aV0xJ",
        "outputId": "141e51e2-23f1-4dd7-c32b-4ed90c66dbb2"
      },
      "execution_count": 2,
      "outputs": [
        {
          "output_type": "execute_result",
          "data": {
            "text/plain": [
              "    User ID  Gender  Age  EstimatedSalary  Purchased\n",
              "0  15624510    Male   19            19000          0\n",
              "1  15810944    Male   35            20000          0\n",
              "2  15668575  Female   26            43000          0\n",
              "3  15603246  Female   27            57000          0\n",
              "4  15804002    Male   19            76000          0"
            ],
            "text/html": [
              "\n",
              "  <div id=\"df-736120a8-9028-4ab9-a437-022c9b50e311\">\n",
              "    <div class=\"colab-df-container\">\n",
              "      <div>\n",
              "<style scoped>\n",
              "    .dataframe tbody tr th:only-of-type {\n",
              "        vertical-align: middle;\n",
              "    }\n",
              "\n",
              "    .dataframe tbody tr th {\n",
              "        vertical-align: top;\n",
              "    }\n",
              "\n",
              "    .dataframe thead th {\n",
              "        text-align: right;\n",
              "    }\n",
              "</style>\n",
              "<table border=\"1\" class=\"dataframe\">\n",
              "  <thead>\n",
              "    <tr style=\"text-align: right;\">\n",
              "      <th></th>\n",
              "      <th>User ID</th>\n",
              "      <th>Gender</th>\n",
              "      <th>Age</th>\n",
              "      <th>EstimatedSalary</th>\n",
              "      <th>Purchased</th>\n",
              "    </tr>\n",
              "  </thead>\n",
              "  <tbody>\n",
              "    <tr>\n",
              "      <th>0</th>\n",
              "      <td>15624510</td>\n",
              "      <td>Male</td>\n",
              "      <td>19</td>\n",
              "      <td>19000</td>\n",
              "      <td>0</td>\n",
              "    </tr>\n",
              "    <tr>\n",
              "      <th>1</th>\n",
              "      <td>15810944</td>\n",
              "      <td>Male</td>\n",
              "      <td>35</td>\n",
              "      <td>20000</td>\n",
              "      <td>0</td>\n",
              "    </tr>\n",
              "    <tr>\n",
              "      <th>2</th>\n",
              "      <td>15668575</td>\n",
              "      <td>Female</td>\n",
              "      <td>26</td>\n",
              "      <td>43000</td>\n",
              "      <td>0</td>\n",
              "    </tr>\n",
              "    <tr>\n",
              "      <th>3</th>\n",
              "      <td>15603246</td>\n",
              "      <td>Female</td>\n",
              "      <td>27</td>\n",
              "      <td>57000</td>\n",
              "      <td>0</td>\n",
              "    </tr>\n",
              "    <tr>\n",
              "      <th>4</th>\n",
              "      <td>15804002</td>\n",
              "      <td>Male</td>\n",
              "      <td>19</td>\n",
              "      <td>76000</td>\n",
              "      <td>0</td>\n",
              "    </tr>\n",
              "  </tbody>\n",
              "</table>\n",
              "</div>\n",
              "      <button class=\"colab-df-convert\" onclick=\"convertToInteractive('df-736120a8-9028-4ab9-a437-022c9b50e311')\"\n",
              "              title=\"Convert this dataframe to an interactive table.\"\n",
              "              style=\"display:none;\">\n",
              "        \n",
              "  <svg xmlns=\"http://www.w3.org/2000/svg\" height=\"24px\"viewBox=\"0 0 24 24\"\n",
              "       width=\"24px\">\n",
              "    <path d=\"M0 0h24v24H0V0z\" fill=\"none\"/>\n",
              "    <path d=\"M18.56 5.44l.94 2.06.94-2.06 2.06-.94-2.06-.94-.94-2.06-.94 2.06-2.06.94zm-11 1L8.5 8.5l.94-2.06 2.06-.94-2.06-.94L8.5 2.5l-.94 2.06-2.06.94zm10 10l.94 2.06.94-2.06 2.06-.94-2.06-.94-.94-2.06-.94 2.06-2.06.94z\"/><path d=\"M17.41 7.96l-1.37-1.37c-.4-.4-.92-.59-1.43-.59-.52 0-1.04.2-1.43.59L10.3 9.45l-7.72 7.72c-.78.78-.78 2.05 0 2.83L4 21.41c.39.39.9.59 1.41.59.51 0 1.02-.2 1.41-.59l7.78-7.78 2.81-2.81c.8-.78.8-2.07 0-2.86zM5.41 20L4 18.59l7.72-7.72 1.47 1.35L5.41 20z\"/>\n",
              "  </svg>\n",
              "      </button>\n",
              "      \n",
              "  <style>\n",
              "    .colab-df-container {\n",
              "      display:flex;\n",
              "      flex-wrap:wrap;\n",
              "      gap: 12px;\n",
              "    }\n",
              "\n",
              "    .colab-df-convert {\n",
              "      background-color: #E8F0FE;\n",
              "      border: none;\n",
              "      border-radius: 50%;\n",
              "      cursor: pointer;\n",
              "      display: none;\n",
              "      fill: #1967D2;\n",
              "      height: 32px;\n",
              "      padding: 0 0 0 0;\n",
              "      width: 32px;\n",
              "    }\n",
              "\n",
              "    .colab-df-convert:hover {\n",
              "      background-color: #E2EBFA;\n",
              "      box-shadow: 0px 1px 2px rgba(60, 64, 67, 0.3), 0px 1px 3px 1px rgba(60, 64, 67, 0.15);\n",
              "      fill: #174EA6;\n",
              "    }\n",
              "\n",
              "    [theme=dark] .colab-df-convert {\n",
              "      background-color: #3B4455;\n",
              "      fill: #D2E3FC;\n",
              "    }\n",
              "\n",
              "    [theme=dark] .colab-df-convert:hover {\n",
              "      background-color: #434B5C;\n",
              "      box-shadow: 0px 1px 3px 1px rgba(0, 0, 0, 0.15);\n",
              "      filter: drop-shadow(0px 1px 2px rgba(0, 0, 0, 0.3));\n",
              "      fill: #FFFFFF;\n",
              "    }\n",
              "  </style>\n",
              "\n",
              "      <script>\n",
              "        const buttonEl =\n",
              "          document.querySelector('#df-736120a8-9028-4ab9-a437-022c9b50e311 button.colab-df-convert');\n",
              "        buttonEl.style.display =\n",
              "          google.colab.kernel.accessAllowed ? 'block' : 'none';\n",
              "\n",
              "        async function convertToInteractive(key) {\n",
              "          const element = document.querySelector('#df-736120a8-9028-4ab9-a437-022c9b50e311');\n",
              "          const dataTable =\n",
              "            await google.colab.kernel.invokeFunction('convertToInteractive',\n",
              "                                                     [key], {});\n",
              "          if (!dataTable) return;\n",
              "\n",
              "          const docLinkHtml = 'Like what you see? Visit the ' +\n",
              "            '<a target=\"_blank\" href=https://colab.research.google.com/notebooks/data_table.ipynb>data table notebook</a>'\n",
              "            + ' to learn more about interactive tables.';\n",
              "          element.innerHTML = '';\n",
              "          dataTable['output_type'] = 'display_data';\n",
              "          await google.colab.output.renderOutput(dataTable, element);\n",
              "          const docLink = document.createElement('div');\n",
              "          docLink.innerHTML = docLinkHtml;\n",
              "          element.appendChild(docLink);\n",
              "        }\n",
              "      </script>\n",
              "    </div>\n",
              "  </div>\n",
              "  "
            ]
          },
          "metadata": {},
          "execution_count": 2
        }
      ]
    },
    {
      "cell_type": "code",
      "source": [
        "import seaborn as sns\n",
        "def get_heatmap(df):\n",
        "    #This function gives heatmap of all NaN values\n",
        "    plt.figure(figsize=(6,4))\n",
        "    sns.heatmap(df.isnull(), yticklabels=False, cbar=False, cmap='viridis')\n",
        "    plt.tight_layout()\n",
        "    return plt.show()\n",
        "\n",
        "get_heatmap(df)"
      ],
      "metadata": {
        "colab": {
          "base_uri": "https://localhost:8080/",
          "height": 297
        },
        "id": "zqQaxOTcWKvN",
        "outputId": "6e4f1b7c-bd0d-4b39-92e2-b04a5071ff57"
      },
      "execution_count": 3,
      "outputs": [
        {
          "output_type": "display_data",
          "data": {
            "text/plain": [
              "<Figure size 432x288 with 1 Axes>"
            ],
            "image/png": "[encoded data removed]"
          },
          "metadata": {
            "needs_background": "light"
          }
        }
      ]
    },
    {
      "cell_type": "code",
      "source": [
        "df = df.drop('User ID',axis=1) #x=x+1\n",
        "df = df.drop('Gender',axis=1)\n",
        "df.head(32)"
      ],
      "metadata": {
        "colab": {
          "base_uri": "https://localhost:8080/",
          "height": 1000
        },
        "id": "RL_kkRBDWNTn",
        "outputId": "b30e9663-d95d-4fcb-d769-3185a9e7dcbe"
      },
      "execution_count": 4,
      "outputs": [
        {
          "output_type": "execute_result",
          "data": {
            "text/plain": [
              "    Age  EstimatedSalary  Purchased\n",
              "0    19            19000          0\n",
              "1    35            20000          0\n",
              "2    26            43000          0\n",
              "3    27            57000          0\n",
              "4    19            76000          0\n",
              "5    27            58000          0\n",
              "6    27            84000          0\n",
              "7    32           150000          1\n",
              "8    25            33000          0\n",
              "9    35            65000          0\n",
              "10   26            80000          0\n",
              "11   26            52000          0\n",
              "12   20            86000          0\n",
              "13   32            18000          0\n",
              "14   18            82000          0\n",
              "15   29            80000          0\n",
              "16   47            25000          1\n",
              "17   45            26000          1\n",
              "18   46            28000          1\n",
              "19   48            29000          1\n",
              "20   45            22000          1\n",
              "21   47            49000          1\n",
              "22   48            41000          1\n",
              "23   45            22000          1\n",
              "24   46            23000          1\n",
              "25   47            20000          1\n",
              "26   49            28000          1\n",
              "27   47            30000          1\n",
              "28   29            43000          0\n",
              "29   31            18000          0\n",
              "30   31            74000          0\n",
              "31   27           137000          1"
            ],
            "text/html": [
              "\n",
              "  <div id=\"df-4c00aca7-cdb9-4300-be05-e5a0f9917d34\">\n",
              "    <div class=\"colab-df-container\">\n",
              "      <div>\n",
              "<style scoped>\n",
              "    .dataframe tbody tr th:only-of-type {\n",
              "        vertical-align: middle;\n",
              "    }\n",
              "\n",
              "    .dataframe tbody tr th {\n",
              "        vertical-align: top;\n",
              "    }\n",
              "\n",
              "    .dataframe thead th {\n",
              "        text-align: right;\n",
              "    }\n",
              "</style>\n",
              "<table border=\"1\" class=\"dataframe\">\n",
              "  <thead>\n",
              "    <tr style=\"text-align: right;\">\n",
              "      <th></th>\n",
              "      <th>Age</th>\n",
              "      <th>EstimatedSalary</th>\n",
              "      <th>Purchased</th>\n",
              "    </tr>\n",
              "  </thead>\n",
              "  <tbody>\n",
              "    <tr>\n",
              "      <th>0</th>\n",
              "      <td>19</td>\n",
              "      <td>19000</td>\n",
              "      <td>0</td>\n",
              "    </tr>\n",
              "    <tr>\n",
              "      <th>1</th>\n",
              "      <td>35</td>\n",
              "      <td>20000</td>\n",
              "      <td>0</td>\n",
              "    </tr>\n",
              "    <tr>\n",
              "      <th>2</th>\n",
              "      <td>26</td>\n",
              "      <td>43000</td>\n",
              "      <td>0</td>\n",
              "    </tr>\n",
              "    <tr>\n",
              "      <th>3</th>\n",
              "      <td>27</td>\n",
              "      <td>57000</td>\n",
              "      <td>0</td>\n",
              "    </tr>\n",
              "    <tr>\n",
              "      <th>4</th>\n",
              "      <td>19</td>\n",
              "      <td>76000</td>\n",
              "      <td>0</td>\n",
              "    </tr>\n",
              "    <tr>\n",
              "      <th>5</th>\n",
              "      <td>27</td>\n",
              "      <td>58000</td>\n",
              "      <td>0</td>\n",
              "    </tr>\n",
              "    <tr>\n",
              "      <th>6</th>\n",
              "      <td>27</td>\n",
              "      <td>84000</td>\n",
              "      <td>0</td>\n",
              "    </tr>\n",
              "    <tr>\n",
              "      <th>7</th>\n",
              "      <td>32</td>\n",
              "      <td>150000</td>\n",
              "      <td>1</td>\n",
              "    </tr>\n",
              "    <tr>\n",
              "      <th>8</th>\n",
              "      <td>25</td>\n",
              "      <td>33000</td>\n",
              "      <td>0</td>\n",
              "    </tr>\n",
              "    <tr>\n",
              "      <th>9</th>\n",
              "      <td>35</td>\n",
              "      <td>65000</td>\n",
              "      <td>0</td>\n",
              "    </tr>\n",
              "    <tr>\n",
              "      <th>10</th>\n",
              "      <td>26</td>\n",
              "      <td>80000</td>\n",
              "      <td>0</td>\n",
              "    </tr>\n",
              "    <tr>\n",
              "      <th>11</th>\n",
              "      <td>26</td>\n",
              "      <td>52000</td>\n",
              "      <td>0</td>\n",
              "    </tr>\n",
              "    <tr>\n",
              "      <th>12</th>\n",
              "      <td>20</td>\n",
              "      <td>86000</td>\n",
              "      <td>0</td>\n",
              "    </tr>\n",
              "    <tr>\n",
              "      <th>13</th>\n",
              "      <td>32</td>\n",
              "      <td>18000</td>\n",
              "      <td>0</td>\n",
              "    </tr>\n",
              "    <tr>\n",
              "      <th>14</th>\n",
              "      <td>18</td>\n",
              "      <td>82000</td>\n",
              "      <td>0</td>\n",
              "    </tr>\n",
              "    <tr>\n",
              "      <th>15</th>\n",
              "      <td>29</td>\n",
              "      <td>80000</td>\n",
              "      <td>0</td>\n",
              "    </tr>\n",
              "    <tr>\n",
              "      <th>16</th>\n",
              "      <td>47</td>\n",
              "      <td>25000</td>\n",
              "      <td>1</td>\n",
              "    </tr>\n",
              "    <tr>\n",
              "      <th>17</th>\n",
              "      <td>45</td>\n",
              "      <td>26000</td>\n",
              "      <td>1</td>\n",
              "    </tr>\n",
              "    <tr>\n",
              "      <th>18</th>\n",
              "      <td>46</td>\n",
              "      <td>28000</td>\n",
              "      <td>1</td>\n",
              "    </tr>\n",
              "    <tr>\n",
              "      <th>19</th>\n",
              "      <td>48</td>\n",
              "      <td>29000</td>\n",
              "      <td>1</td>\n",
              "    </tr>\n",
              "    <tr>\n",
              "      <th>20</th>\n",
              "      <td>45</td>\n",
              "      <td>22000</td>\n",
              "      <td>1</td>\n",
              "    </tr>\n",
              "    <tr>\n",
              "      <th>21</th>\n",
              "      <td>47</td>\n",
              "      <td>49000</td>\n",
              "      <td>1</td>\n",
              "    </tr>\n",
              "    <tr>\n",
              "      <th>22</th>\n",
              "      <td>48</td>\n",
              "      <td>41000</td>\n",
              "      <td>1</td>\n",
              "    </tr>\n",
              "    <tr>\n",
              "      <th>23</th>\n",
              "      <td>45</td>\n",
              "      <td>22000</td>\n",
              "      <td>1</td>\n",
              "    </tr>\n",
              "    <tr>\n",
              "      <th>24</th>\n",
              "      <td>46</td>\n",
              "      <td>23000</td>\n",
              "      <td>1</td>\n",
              "    </tr>\n",
              "    <tr>\n",
              "      <th>25</th>\n",
              "      <td>47</td>\n",
              "      <td>20000</td>\n",
              "      <td>1</td>\n",
              "    </tr>\n",
              "    <tr>\n",
              "      <th>26</th>\n",
              "      <td>49</td>\n",
              "      <td>28000</td>\n",
              "      <td>1</td>\n",
              "    </tr>\n",
              "    <tr>\n",
              "      <th>27</th>\n",
              "      <td>47</td>\n",
              "      <td>30000</td>\n",
              "      <td>1</td>\n",
              "    </tr>\n",
              "    <tr>\n",
              "      <th>28</th>\n",
              "      <td>29</td>\n",
              "      <td>43000</td>\n",
              "      <td>0</td>\n",
              "    </tr>\n",
              "    <tr>\n",
              "      <th>29</th>\n",
              "      <td>31</td>\n",
              "      <td>18000</td>\n",
              "      <td>0</td>\n",
              "    </tr>\n",
              "    <tr>\n",
              "      <th>30</th>\n",
              "      <td>31</td>\n",
              "      <td>74000</td>\n",
              "      <td>0</td>\n",
              "    </tr>\n",
              "    <tr>\n",
              "      <th>31</th>\n",
              "      <td>27</td>\n",
              "      <td>137000</td>\n",
              "      <td>1</td>\n",
              "    </tr>\n",
              "  </tbody>\n",
              "</table>\n",
              "</div>\n",
              "      <button class=\"colab-df-convert\" onclick=\"convertToInteractive('df-4c00aca7-cdb9-4300-be05-e5a0f9917d34')\"\n",
              "              title=\"Convert this dataframe to an interactive table.\"\n",
              "              style=\"display:none;\">\n",
              "        \n",
              "  <svg xmlns=\"http://www.w3.org/2000/svg\" height=\"24px\"viewBox=\"0 0 24 24\"\n",
              "       width=\"24px\">\n",
              "    <path d=\"M0 0h24v24H0V0z\" fill=\"none\"/>\n",
              "    <path d=\"M18.56 5.44l.94 2.06.94-2.06 2.06-.94-2.06-.94-.94-2.06-.94 2.06-2.06.94zm-11 1L8.5 8.5l.94-2.06 2.06-.94-2.06-.94L8.5 2.5l-.94 2.06-2.06.94zm10 10l.94 2.06.94-2.06 2.06-.94-2.06-.94-.94-2.06-.94 2.06-2.06.94z\"/><path d=\"M17.41 7.96l-1.37-1.37c-.4-.4-.92-.59-1.43-.59-.52 0-1.04.2-1.43.59L10.3 9.45l-7.72 7.72c-.78.78-.78 2.05 0 2.83L4 21.41c.39.39.9.59 1.41.59.51 0 1.02-.2 1.41-.59l7.78-7.78 2.81-2.81c.8-.78.8-2.07 0-2.86zM5.41 20L4 18.59l7.72-7.72 1.47 1.35L5.41 20z\"/>\n",
              "  </svg>\n",
              "      </button>\n",
              "      \n",
              "  <style>\n",
              "    .colab-df-container {\n",
              "      display:flex;\n",
              "      flex-wrap:wrap;\n",
              "      gap: 12px;\n",
              "    }\n",
              "\n",
              "    .colab-df-convert {\n",
              "      background-color: #E8F0FE;\n",
              "      border: none;\n",
              "      border-radius: 50%;\n",
              "      cursor: pointer;\n",
              "      display: none;\n",
              "      fill: #1967D2;\n",
              "      height: 32px;\n",
              "      padding: 0 0 0 0;\n",
              "      width: 32px;\n",
              "    }\n",
              "\n",
              "    .colab-df-convert:hover {\n",
              "      background-color: #E2EBFA;\n",
              "      box-shadow: 0px 1px 2px rgba(60, 64, 67, 0.3), 0px 1px 3px 1px rgba(60, 64, 67, 0.15);\n",
              "      fill: #174EA6;\n",
              "    }\n",
              "\n",
              "    [theme=dark] .colab-df-convert {\n",
              "      background-color: #3B4455;\n",
              "      fill: #D2E3FC;\n",
              "    }\n",
              "\n",
              "    [theme=dark] .colab-df-convert:hover {\n",
              "      background-color: #434B5C;\n",
              "      box-shadow: 0px 1px 3px 1px rgba(0, 0, 0, 0.15);\n",
              "      filter: drop-shadow(0px 1px 2px rgba(0, 0, 0, 0.3));\n",
              "      fill: #FFFFFF;\n",
              "    }\n",
              "  </style>\n",
              "\n",
              "      <script>\n",
              "        const buttonEl =\n",
              "          document.querySelector('#df-4c00aca7-cdb9-4300-be05-e5a0f9917d34 button.colab-df-convert');\n",
              "        buttonEl.style.display =\n",
              "          google.colab.kernel.accessAllowed ? 'block' : 'none';\n",
              "\n",
              "        async function convertToInteractive(key) {\n",
              "          const element = document.querySelector('#df-4c00aca7-cdb9-4300-be05-e5a0f9917d34');\n",
              "          const dataTable =\n",
              "            await google.colab.kernel.invokeFunction('convertToInteractive',\n",
              "                                                     [key], {});\n",
              "          if (!dataTable) return;\n",
              "\n",
              "          const docLinkHtml = 'Like what you see? Visit the ' +\n",
              "            '<a target=\"_blank\" href=https://colab.research.google.com/notebooks/data_table.ipynb>data table notebook</a>'\n",
              "            + ' to learn more about interactive tables.';\n",
              "          element.innerHTML = '';\n",
              "          dataTable['output_type'] = 'display_data';\n",
              "          await google.colab.output.renderOutput(dataTable, element);\n",
              "          const docLink = document.createElement('div');\n",
              "          docLink.innerHTML = docLinkHtml;\n",
              "          element.appendChild(docLink);\n",
              "        }\n",
              "      </script>\n",
              "    </div>\n",
              "  </div>\n",
              "  "
            ]
          },
          "metadata": {},
          "execution_count": 4
        }
      ]
    },
    {
      "cell_type": "code",
      "source": [
        "# Importing StandardScaler from scikit-learn\n",
        "from sklearn.preprocessing import StandardScaler\n",
        "sst = StandardScaler()\n",
        "data_scaled=df.iloc[:,:-1].values\n",
        "data_scaled=sst.fit_transform(data_scaled)\n",
        "data_scaled=pd.DataFrame(data_scaled)"
      ],
      "metadata": {
        "id": "Y1-vrcFRWQTC"
      },
      "execution_count": 5,
      "outputs": []
    },
    {
      "cell_type": "code",
      "source": [
        "data_scaled.head()"
      ],
      "metadata": {
        "colab": {
          "base_uri": "https://localhost:8080/",
          "height": 206
        },
        "id": "J8gSgHd2WS1Y",
        "outputId": "49705907-1e1a-420c-fee8-8d279e98de61"
      },
      "execution_count": 6,
      "outputs": [
        {
          "output_type": "execute_result",
          "data": {
            "text/plain": [
              "          0         1\n",
              "0 -1.781797 -1.490046\n",
              "1 -0.253587 -1.460681\n",
              "2 -1.113206 -0.785290\n",
              "3 -1.017692 -0.374182\n",
              "4 -1.781797  0.183751"
            ],
            "text/html": [
              "\n",
              "  <div id=\"df-82cdc57e-7b21-495c-a14e-b305a66e29c5\">\n",
              "    <div class=\"colab-df-container\">\n",
              "      <div>\n",
              "<style scoped>\n",
              "    .dataframe tbody tr th:only-of-type {\n",
              "        vertical-align: middle;\n",
              "    }\n",
              "\n",
              "    .dataframe tbody tr th {\n",
              "        vertical-align: top;\n",
              "    }\n",
              "\n",
              "    .dataframe thead th {\n",
              "        text-align: right;\n",
              "    }\n",
              "</style>\n",
              "<table border=\"1\" class=\"dataframe\">\n",
              "  <thead>\n",
              "    <tr style=\"text-align: right;\">\n",
              "      <th></th>\n",
              "      <th>0</th>\n",
              "      <th>1</th>\n",
              "    </tr>\n",
              "  </thead>\n",
              "  <tbody>\n",
              "    <tr>\n",
              "      <th>0</th>\n",
              "      <td>-1.781797</td>\n",
              "      <td>-1.490046</td>\n",
              "    </tr>\n",
              "    <tr>\n",
              "      <th>1</th>\n",
              "      <td>-0.253587</td>\n",
              "      <td>-1.460681</td>\n",
              "    </tr>\n",
              "    <tr>\n",
              "      <th>2</th>\n",
              "      <td>-1.113206</td>\n",
              "      <td>-0.785290</td>\n",
              "    </tr>\n",
              "    <tr>\n",
              "      <th>3</th>\n",
              "      <td>-1.017692</td>\n",
              "      <td>-0.374182</td>\n",
              "    </tr>\n",
              "    <tr>\n",
              "      <th>4</th>\n",
              "      <td>-1.781797</td>\n",
              "      <td>0.183751</td>\n",
              "    </tr>\n",
              "  </tbody>\n",
              "</table>\n",
              "</div>\n",
              "      <button class=\"colab-df-convert\" onclick=\"convertToInteractive('df-82cdc57e-7b21-495c-a14e-b305a66e29c5')\"\n",
              "              title=\"Convert this dataframe to an interactive table.\"\n",
              "              style=\"display:none;\">\n",
              "        \n",
              "  <svg xmlns=\"http://www.w3.org/2000/svg\" height=\"24px\"viewBox=\"0 0 24 24\"\n",
              "       width=\"24px\">\n",
              "    <path d=\"M0 0h24v24H0V0z\" fill=\"none\"/>\n",
              "    <path d=\"M18.56 5.44l.94 2.06.94-2.06 2.06-.94-2.06-.94-.94-2.06-.94 2.06-2.06.94zm-11 1L8.5 8.5l.94-2.06 2.06-.94-2.06-.94L8.5 2.5l-.94 2.06-2.06.94zm10 10l.94 2.06.94-2.06 2.06-.94-2.06-.94-.94-2.06-.94 2.06-2.06.94z\"/><path d=\"M17.41 7.96l-1.37-1.37c-.4-.4-.92-.59-1.43-.59-.52 0-1.04.2-1.43.59L10.3 9.45l-7.72 7.72c-.78.78-.78 2.05 0 2.83L4 21.41c.39.39.9.59 1.41.59.51 0 1.02-.2 1.41-.59l7.78-7.78 2.81-2.81c.8-.78.8-2.07 0-2.86zM5.41 20L4 18.59l7.72-7.72 1.47 1.35L5.41 20z\"/>\n",
              "  </svg>\n",
              "      </button>\n",
              "      \n",
              "  <style>\n",
              "    .colab-df-container {\n",
              "      display:flex;\n",
              "      flex-wrap:wrap;\n",
              "      gap: 12px;\n",
              "    }\n",
              "\n",
              "    .colab-df-convert {\n",
              "      background-color: #E8F0FE;\n",
              "      border: none;\n",
              "      border-radius: 50%;\n",
              "      cursor: pointer;\n",
              "      display: none;\n",
              "      fill: #1967D2;\n",
              "      height: 32px;\n",
              "      padding: 0 0 0 0;\n",
              "      width: 32px;\n",
              "    }\n",
              "\n",
              "    .colab-df-convert:hover {\n",
              "      background-color: #E2EBFA;\n",
              "      box-shadow: 0px 1px 2px rgba(60, 64, 67, 0.3), 0px 1px 3px 1px rgba(60, 64, 67, 0.15);\n",
              "      fill: #174EA6;\n",
              "    }\n",
              "\n",
              "    [theme=dark] .colab-df-convert {\n",
              "      background-color: #3B4455;\n",
              "      fill: #D2E3FC;\n",
              "    }\n",
              "\n",
              "    [theme=dark] .colab-df-convert:hover {\n",
              "      background-color: #434B5C;\n",
              "      box-shadow: 0px 1px 3px 1px rgba(0, 0, 0, 0.15);\n",
              "      filter: drop-shadow(0px 1px 2px rgba(0, 0, 0, 0.3));\n",
              "      fill: #FFFFFF;\n",
              "    }\n",
              "  </style>\n",
              "\n",
              "      <script>\n",
              "        const buttonEl =\n",
              "          document.querySelector('#df-82cdc57e-7b21-495c-a14e-b305a66e29c5 button.colab-df-convert');\n",
              "        buttonEl.style.display =\n",
              "          google.colab.kernel.accessAllowed ? 'block' : 'none';\n",
              "\n",
              "        async function convertToInteractive(key) {\n",
              "          const element = document.querySelector('#df-82cdc57e-7b21-495c-a14e-b305a66e29c5');\n",
              "          const dataTable =\n",
              "            await google.colab.kernel.invokeFunction('convertToInteractive',\n",
              "                                                     [key], {});\n",
              "          if (!dataTable) return;\n",
              "\n",
              "          const docLinkHtml = 'Like what you see? Visit the ' +\n",
              "            '<a target=\"_blank\" href=https://colab.research.google.com/notebooks/data_table.ipynb>data table notebook</a>'\n",
              "            + ' to learn more about interactive tables.';\n",
              "          element.innerHTML = '';\n",
              "          dataTable['output_type'] = 'display_data';\n",
              "          await google.colab.output.renderOutput(dataTable, element);\n",
              "          const docLink = document.createElement('div');\n",
              "          docLink.innerHTML = docLinkHtml;\n",
              "          element.appendChild(docLink);\n",
              "        }\n",
              "      </script>\n",
              "    </div>\n",
              "  </div>\n",
              "  "
            ]
          },
          "metadata": {},
          "execution_count": 6
        }
      ]
    },
    {
      "cell_type": "code",
      "source": [
        "data_scaled.columns=['Age','EstimatedSalary']\n",
        "data_scaled.head()"
      ],
      "metadata": {
        "colab": {
          "base_uri": "https://localhost:8080/",
          "height": 206
        },
        "id": "u4dqv3GwWVLG",
        "outputId": "f8d013ab-fcfd-47ac-889f-b0c7b47b49f2"
      },
      "execution_count": 7,
      "outputs": [
        {
          "output_type": "execute_result",
          "data": {
            "text/plain": [
              "        Age  EstimatedSalary\n",
              "0 -1.781797        -1.490046\n",
              "1 -0.253587        -1.460681\n",
              "2 -1.113206        -0.785290\n",
              "3 -1.017692        -0.374182\n",
              "4 -1.781797         0.183751"
            ],
            "text/html": [
              "\n",
              "  <div id=\"df-19edee94-0993-4dae-a585-eae01cf07175\">\n",
              "    <div class=\"colab-df-container\">\n",
              "      <div>\n",
              "<style scoped>\n",
              "    .dataframe tbody tr th:only-of-type {\n",
              "        vertical-align: middle;\n",
              "    }\n",
              "\n",
              "    .dataframe tbody tr th {\n",
              "        vertical-align: top;\n",
              "    }\n",
              "\n",
              "    .dataframe thead th {\n",
              "        text-align: right;\n",
              "    }\n",
              "</style>\n",
              "<table border=\"1\" class=\"dataframe\">\n",
              "  <thead>\n",
              "    <tr style=\"text-align: right;\">\n",
              "      <th></th>\n",
              "      <th>Age</th>\n",
              "      <th>EstimatedSalary</th>\n",
              "    </tr>\n",
              "  </thead>\n",
              "  <tbody>\n",
              "    <tr>\n",
              "      <th>0</th>\n",
              "      <td>-1.781797</td>\n",
              "      <td>-1.490046</td>\n",
              "    </tr>\n",
              "    <tr>\n",
              "      <th>1</th>\n",
              "      <td>-0.253587</td>\n",
              "      <td>-1.460681</td>\n",
              "    </tr>\n",
              "    <tr>\n",
              "      <th>2</th>\n",
              "      <td>-1.113206</td>\n",
              "      <td>-0.785290</td>\n",
              "    </tr>\n",
              "    <tr>\n",
              "      <th>3</th>\n",
              "      <td>-1.017692</td>\n",
              "      <td>-0.374182</td>\n",
              "    </tr>\n",
              "    <tr>\n",
              "      <th>4</th>\n",
              "      <td>-1.781797</td>\n",
              "      <td>0.183751</td>\n",
              "    </tr>\n",
              "  </tbody>\n",
              "</table>\n",
              "</div>\n",
              "      <button class=\"colab-df-convert\" onclick=\"convertToInteractive('df-19edee94-0993-4dae-a585-eae01cf07175')\"\n",
              "              title=\"Convert this dataframe to an interactive table.\"\n",
              "              style=\"display:none;\">\n",
              "        \n",
              "  <svg xmlns=\"http://www.w3.org/2000/svg\" height=\"24px\"viewBox=\"0 0 24 24\"\n",
              "       width=\"24px\">\n",
              "    <path d=\"M0 0h24v24H0V0z\" fill=\"none\"/>\n",
              "    <path d=\"M18.56 5.44l.94 2.06.94-2.06 2.06-.94-2.06-.94-.94-2.06-.94 2.06-2.06.94zm-11 1L8.5 8.5l.94-2.06 2.06-.94-2.06-.94L8.5 2.5l-.94 2.06-2.06.94zm10 10l.94 2.06.94-2.06 2.06-.94-2.06-.94-.94-2.06-.94 2.06-2.06.94z\"/><path d=\"M17.41 7.96l-1.37-1.37c-.4-.4-.92-.59-1.43-.59-.52 0-1.04.2-1.43.59L10.3 9.45l-7.72 7.72c-.78.78-.78 2.05 0 2.83L4 21.41c.39.39.9.59 1.41.59.51 0 1.02-.2 1.41-.59l7.78-7.78 2.81-2.81c.8-.78.8-2.07 0-2.86zM5.41 20L4 18.59l7.72-7.72 1.47 1.35L5.41 20z\"/>\n",
              "  </svg>\n",
              "      </button>\n",
              "      \n",
              "  <style>\n",
              "    .colab-df-container {\n",
              "      display:flex;\n",
              "      flex-wrap:wrap;\n",
              "      gap: 12px;\n",
              "    }\n",
              "\n",
              "    .colab-df-convert {\n",
              "      background-color: #E8F0FE;\n",
              "      border: none;\n",
              "      border-radius: 50%;\n",
              "      cursor: pointer;\n",
              "      display: none;\n",
              "      fill: #1967D2;\n",
              "      height: 32px;\n",
              "      padding: 0 0 0 0;\n",
              "      width: 32px;\n",
              "    }\n",
              "\n",
              "    .colab-df-convert:hover {\n",
              "      background-color: #E2EBFA;\n",
              "      box-shadow: 0px 1px 2px rgba(60, 64, 67, 0.3), 0px 1px 3px 1px rgba(60, 64, 67, 0.15);\n",
              "      fill: #174EA6;\n",
              "    }\n",
              "\n",
              "    [theme=dark] .colab-df-convert {\n",
              "      background-color: #3B4455;\n",
              "      fill: #D2E3FC;\n",
              "    }\n",
              "\n",
              "    [theme=dark] .colab-df-convert:hover {\n",
              "      background-color: #434B5C;\n",
              "      box-shadow: 0px 1px 3px 1px rgba(0, 0, 0, 0.15);\n",
              "      filter: drop-shadow(0px 1px 2px rgba(0, 0, 0, 0.3));\n",
              "      fill: #FFFFFF;\n",
              "    }\n",
              "  </style>\n",
              "\n",
              "      <script>\n",
              "        const buttonEl =\n",
              "          document.querySelector('#df-19edee94-0993-4dae-a585-eae01cf07175 button.colab-df-convert');\n",
              "        buttonEl.style.display =\n",
              "          google.colab.kernel.accessAllowed ? 'block' : 'none';\n",
              "\n",
              "        async function convertToInteractive(key) {\n",
              "          const element = document.querySelector('#df-19edee94-0993-4dae-a585-eae01cf07175');\n",
              "          const dataTable =\n",
              "            await google.colab.kernel.invokeFunction('convertToInteractive',\n",
              "                                                     [key], {});\n",
              "          if (!dataTable) return;\n",
              "\n",
              "          const docLinkHtml = 'Like what you see? Visit the ' +\n",
              "            '<a target=\"_blank\" href=https://colab.research.google.com/notebooks/data_table.ipynb>data table notebook</a>'\n",
              "            + ' to learn more about interactive tables.';\n",
              "          element.innerHTML = '';\n",
              "          dataTable['output_type'] = 'display_data';\n",
              "          await google.colab.output.renderOutput(dataTable, element);\n",
              "          const docLink = document.createElement('div');\n",
              "          docLink.innerHTML = docLinkHtml;\n",
              "          element.appendChild(docLink);\n",
              "        }\n",
              "      </script>\n",
              "    </div>\n",
              "  </div>\n",
              "  "
            ]
          },
          "metadata": {},
          "execution_count": 7
        }
      ]
    },
    {
      "cell_type": "code",
      "source": [
        "data_scaled['Purchased'] = df.Purchased\n",
        "data_scaled"
      ],
      "metadata": {
        "colab": {
          "base_uri": "https://localhost:8080/",
          "height": 424
        },
        "id": "qirCfvAqWX4w",
        "outputId": "ea6bf2f3-c6cb-4276-cea1-0f88935ef57e"
      },
      "execution_count": 8,
      "outputs": [
        {
          "output_type": "execute_result",
          "data": {
            "text/plain": [
              "          Age  EstimatedSalary  Purchased\n",
              "0   -1.781797        -1.490046          0\n",
              "1   -0.253587        -1.460681          0\n",
              "2   -1.113206        -0.785290          0\n",
              "3   -1.017692        -0.374182          0\n",
              "4   -1.781797         0.183751          0\n",
              "..        ...              ...        ...\n",
              "395  0.797057        -0.844019          1\n",
              "396  1.274623        -1.372587          1\n",
              "397  1.179110        -1.460681          1\n",
              "398 -0.158074        -1.078938          0\n",
              "399  1.083596        -0.990844          1\n",
              "\n",
              "[400 rows x 3 columns]"
            ],
            "text/html": [
              "\n",
              "  <div id=\"df-c2d4e251-c974-4cdc-970d-d8f908f0ee8b\">\n",
              "    <div class=\"colab-df-container\">\n",
              "      <div>\n",
              "<style scoped>\n",
              "    .dataframe tbody tr th:only-of-type {\n",
              "        vertical-align: middle;\n",
              "    }\n",
              "\n",
              "    .dataframe tbody tr th {\n",
              "        vertical-align: top;\n",
              "    }\n",
              "\n",
              "    .dataframe thead th {\n",
              "        text-align: right;\n",
              "    }\n",
              "</style>\n",
              "<table border=\"1\" class=\"dataframe\">\n",
              "  <thead>\n",
              "    <tr style=\"text-align: right;\">\n",
              "      <th></th>\n",
              "      <th>Age</th>\n",
              "      <th>EstimatedSalary</th>\n",
              "      <th>Purchased</th>\n",
              "    </tr>\n",
              "  </thead>\n",
              "  <tbody>\n",
              "    <tr>\n",
              "      <th>0</th>\n",
              "      <td>-1.781797</td>\n",
              "      <td>-1.490046</td>\n",
              "      <td>0</td>\n",
              "    </tr>\n",
              "    <tr>\n",
              "      <th>1</th>\n",
              "      <td>-0.253587</td>\n",
              "      <td>-1.460681</td>\n",
              "      <td>0</td>\n",
              "    </tr>\n",
              "    <tr>\n",
              "      <th>2</th>\n",
              "      <td>-1.113206</td>\n",
              "      <td>-0.785290</td>\n",
              "      <td>0</td>\n",
              "    </tr>\n",
              "    <tr>\n",
              "      <th>3</th>\n",
              "      <td>-1.017692</td>\n",
              "      <td>-0.374182</td>\n",
              "      <td>0</td>\n",
              "    </tr>\n",
              "    <tr>\n",
              "      <th>4</th>\n",
              "      <td>-1.781797</td>\n",
              "      <td>0.183751</td>\n",
              "      <td>0</td>\n",
              "    </tr>\n",
              "    <tr>\n",
              "      <th>...</th>\n",
              "      <td>...</td>\n",
              "      <td>...</td>\n",
              "      <td>...</td>\n",
              "    </tr>\n",
              "    <tr>\n",
              "      <th>395</th>\n",
              "      <td>0.797057</td>\n",
              "      <td>-0.844019</td>\n",
              "      <td>1</td>\n",
              "    </tr>\n",
              "    <tr>\n",
              "      <th>396</th>\n",
              "      <td>1.274623</td>\n",
              "      <td>-1.372587</td>\n",
              "      <td>1</td>\n",
              "    </tr>\n",
              "    <tr>\n",
              "      <th>397</th>\n",
              "      <td>1.179110</td>\n",
              "      <td>-1.460681</td>\n",
              "      <td>1</td>\n",
              "    </tr>\n",
              "    <tr>\n",
              "      <th>398</th>\n",
              "      <td>-0.158074</td>\n",
              "      <td>-1.078938</td>\n",
              "      <td>0</td>\n",
              "    </tr>\n",
              "    <tr>\n",
              "      <th>399</th>\n",
              "      <td>1.083596</td>\n",
              "      <td>-0.990844</td>\n",
              "      <td>1</td>\n",
              "    </tr>\n",
              "  </tbody>\n",
              "</table>\n",
              "<p>400 rows × 3 columns</p>\n",
              "</div>\n",
              "      <button class=\"colab-df-convert\" onclick=\"convertToInteractive('df-c2d4e251-c974-4cdc-970d-d8f908f0ee8b')\"\n",
              "              title=\"Convert this dataframe to an interactive table.\"\n",
              "              style=\"display:none;\">\n",
              "        \n",
              "  <svg xmlns=\"http://www.w3.org/2000/svg\" height=\"24px\"viewBox=\"0 0 24 24\"\n",
              "       width=\"24px\">\n",
              "    <path d=\"M0 0h24v24H0V0z\" fill=\"none\"/>\n",
              "    <path d=\"M18.56 5.44l.94 2.06.94-2.06 2.06-.94-2.06-.94-.94-2.06-.94 2.06-2.06.94zm-11 1L8.5 8.5l.94-2.06 2.06-.94-2.06-.94L8.5 2.5l-.94 2.06-2.06.94zm10 10l.94 2.06.94-2.06 2.06-.94-2.06-.94-.94-2.06-.94 2.06-2.06.94z\"/><path d=\"M17.41 7.96l-1.37-1.37c-.4-.4-.92-.59-1.43-.59-.52 0-1.04.2-1.43.59L10.3 9.45l-7.72 7.72c-.78.78-.78 2.05 0 2.83L4 21.41c.39.39.9.59 1.41.59.51 0 1.02-.2 1.41-.59l7.78-7.78 2.81-2.81c.8-.78.8-2.07 0-2.86zM5.41 20L4 18.59l7.72-7.72 1.47 1.35L5.41 20z\"/>\n",
              "  </svg>\n",
              "      </button>\n",
              "      \n",
              "  <style>\n",
              "    .colab-df-container {\n",
              "      display:flex;\n",
              "      flex-wrap:wrap;\n",
              "      gap: 12px;\n",
              "    }\n",
              "\n",
              "    .colab-df-convert {\n",
              "      background-color: #E8F0FE;\n",
              "      border: none;\n",
              "      border-radius: 50%;\n",
              "      cursor: pointer;\n",
              "      display: none;\n",
              "      fill: #1967D2;\n",
              "      height: 32px;\n",
              "      padding: 0 0 0 0;\n",
              "      width: 32px;\n",
              "    }\n",
              "\n",
              "    .colab-df-convert:hover {\n",
              "      background-color: #E2EBFA;\n",
              "      box-shadow: 0px 1px 2px rgba(60, 64, 67, 0.3), 0px 1px 3px 1px rgba(60, 64, 67, 0.15);\n",
              "      fill: #174EA6;\n",
              "    }\n",
              "\n",
              "    [theme=dark] .colab-df-convert {\n",
              "      background-color: #3B4455;\n",
              "      fill: #D2E3FC;\n",
              "    }\n",
              "\n",
              "    [theme=dark] .colab-df-convert:hover {\n",
              "      background-color: #434B5C;\n",
              "      box-shadow: 0px 1px 3px 1px rgba(0, 0, 0, 0.15);\n",
              "      filter: drop-shadow(0px 1px 2px rgba(0, 0, 0, 0.3));\n",
              "      fill: #FFFFFF;\n",
              "    }\n",
              "  </style>\n",
              "\n",
              "      <script>\n",
              "        const buttonEl =\n",
              "          document.querySelector('#df-c2d4e251-c974-4cdc-970d-d8f908f0ee8b button.colab-df-convert');\n",
              "        buttonEl.style.display =\n",
              "          google.colab.kernel.accessAllowed ? 'block' : 'none';\n",
              "\n",
              "        async function convertToInteractive(key) {\n",
              "          const element = document.querySelector('#df-c2d4e251-c974-4cdc-970d-d8f908f0ee8b');\n",
              "          const dataTable =\n",
              "            await google.colab.kernel.invokeFunction('convertToInteractive',\n",
              "                                                     [key], {});\n",
              "          if (!dataTable) return;\n",
              "\n",
              "          const docLinkHtml = 'Like what you see? Visit the ' +\n",
              "            '<a target=\"_blank\" href=https://colab.research.google.com/notebooks/data_table.ipynb>data table notebook</a>'\n",
              "            + ' to learn more about interactive tables.';\n",
              "          element.innerHTML = '';\n",
              "          dataTable['output_type'] = 'display_data';\n",
              "          await google.colab.output.renderOutput(dataTable, element);\n",
              "          const docLink = document.createElement('div');\n",
              "          docLink.innerHTML = docLinkHtml;\n",
              "          element.appendChild(docLink);\n",
              "        }\n",
              "      </script>\n",
              "    </div>\n",
              "  </div>\n",
              "  "
            ]
          },
          "metadata": {},
          "execution_count": 8
        }
      ]
    },
    {
      "cell_type": "code",
      "source": [
        "data_scaled = data_scaled[data_scaled['Purchased'].notna()]\n",
        "data_scaled"
      ],
      "metadata": {
        "colab": {
          "base_uri": "https://localhost:8080/",
          "height": 424
        },
        "id": "D-gS1u4xWafg",
        "outputId": "27d6288a-e9d4-4302-be55-747dda3b719d"
      },
      "execution_count": 9,
      "outputs": [
        {
          "output_type": "execute_result",
          "data": {
            "text/plain": [
              "          Age  EstimatedSalary  Purchased\n",
              "0   -1.781797        -1.490046          0\n",
              "1   -0.253587        -1.460681          0\n",
              "2   -1.113206        -0.785290          0\n",
              "3   -1.017692        -0.374182          0\n",
              "4   -1.781797         0.183751          0\n",
              "..        ...              ...        ...\n",
              "395  0.797057        -0.844019          1\n",
              "396  1.274623        -1.372587          1\n",
              "397  1.179110        -1.460681          1\n",
              "398 -0.158074        -1.078938          0\n",
              "399  1.083596        -0.990844          1\n",
              "\n",
              "[400 rows x 3 columns]"
            ],
            "text/html": [
              "\n",
              "  <div id=\"df-ba347b3a-6c20-4f7e-9957-b337ac926488\">\n",
              "    <div class=\"colab-df-container\">\n",
              "      <div>\n",
              "<style scoped>\n",
              "    .dataframe tbody tr th:only-of-type {\n",
              "        vertical-align: middle;\n",
              "    }\n",
              "\n",
              "    .dataframe tbody tr th {\n",
              "        vertical-align: top;\n",
              "    }\n",
              "\n",
              "    .dataframe thead th {\n",
              "        text-align: right;\n",
              "    }\n",
              "</style>\n",
              "<table border=\"1\" class=\"dataframe\">\n",
              "  <thead>\n",
              "    <tr style=\"text-align: right;\">\n",
              "      <th></th>\n",
              "      <th>Age</th>\n",
              "      <th>EstimatedSalary</th>\n",
              "      <th>Purchased</th>\n",
              "    </tr>\n",
              "  </thead>\n",
              "  <tbody>\n",
              "    <tr>\n",
              "      <th>0</th>\n",
              "      <td>-1.781797</td>\n",
              "      <td>-1.490046</td>\n",
              "      <td>0</td>\n",
              "    </tr>\n",
              "    <tr>\n",
              "      <th>1</th>\n",
              "      <td>-0.253587</td>\n",
              "      <td>-1.460681</td>\n",
              "      <td>0</td>\n",
              "    </tr>\n",
              "    <tr>\n",
              "      <th>2</th>\n",
              "      <td>-1.113206</td>\n",
              "      <td>-0.785290</td>\n",
              "      <td>0</td>\n",
              "    </tr>\n",
              "    <tr>\n",
              "      <th>3</th>\n",
              "      <td>-1.017692</td>\n",
              "      <td>-0.374182</td>\n",
              "      <td>0</td>\n",
              "    </tr>\n",
              "    <tr>\n",
              "      <th>4</th>\n",
              "      <td>-1.781797</td>\n",
              "      <td>0.183751</td>\n",
              "      <td>0</td>\n",
              "    </tr>\n",
              "    <tr>\n",
              "      <th>...</th>\n",
              "      <td>...</td>\n",
              "      <td>...</td>\n",
              "      <td>...</td>\n",
              "    </tr>\n",
              "    <tr>\n",
              "      <th>395</th>\n",
              "      <td>0.797057</td>\n",
              "      <td>-0.844019</td>\n",
              "      <td>1</td>\n",
              "    </tr>\n",
              "    <tr>\n",
              "      <th>396</th>\n",
              "      <td>1.274623</td>\n",
              "      <td>-1.372587</td>\n",
              "      <td>1</td>\n",
              "    </tr>\n",
              "    <tr>\n",
              "      <th>397</th>\n",
              "      <td>1.179110</td>\n",
              "      <td>-1.460681</td>\n",
              "      <td>1</td>\n",
              "    </tr>\n",
              "    <tr>\n",
              "      <th>398</th>\n",
              "      <td>-0.158074</td>\n",
              "      <td>-1.078938</td>\n",
              "      <td>0</td>\n",
              "    </tr>\n",
              "    <tr>\n",
              "      <th>399</th>\n",
              "      <td>1.083596</td>\n",
              "      <td>-0.990844</td>\n",
              "      <td>1</td>\n",
              "    </tr>\n",
              "  </tbody>\n",
              "</table>\n",
              "<p>400 rows × 3 columns</p>\n",
              "</div>\n",
              "      <button class=\"colab-df-convert\" onclick=\"convertToInteractive('df-ba347b3a-6c20-4f7e-9957-b337ac926488')\"\n",
              "              title=\"Convert this dataframe to an interactive table.\"\n",
              "              style=\"display:none;\">\n",
              "        \n",
              "  <svg xmlns=\"http://www.w3.org/2000/svg\" height=\"24px\"viewBox=\"0 0 24 24\"\n",
              "       width=\"24px\">\n",
              "    <path d=\"M0 0h24v24H0V0z\" fill=\"none\"/>\n",
              "    <path d=\"M18.56 5.44l.94 2.06.94-2.06 2.06-.94-2.06-.94-.94-2.06-.94 2.06-2.06.94zm-11 1L8.5 8.5l.94-2.06 2.06-.94-2.06-.94L8.5 2.5l-.94 2.06-2.06.94zm10 10l.94 2.06.94-2.06 2.06-.94-2.06-.94-.94-2.06-.94 2.06-2.06.94z\"/><path d=\"M17.41 7.96l-1.37-1.37c-.4-.4-.92-.59-1.43-.59-.52 0-1.04.2-1.43.59L10.3 9.45l-7.72 7.72c-.78.78-.78 2.05 0 2.83L4 21.41c.39.39.9.59 1.41.59.51 0 1.02-.2 1.41-.59l7.78-7.78 2.81-2.81c.8-.78.8-2.07 0-2.86zM5.41 20L4 18.59l7.72-7.72 1.47 1.35L5.41 20z\"/>\n",
              "  </svg>\n",
              "      </button>\n",
              "      \n",
              "  <style>\n",
              "    .colab-df-container {\n",
              "      display:flex;\n",
              "      flex-wrap:wrap;\n",
              "      gap: 12px;\n",
              "    }\n",
              "\n",
              "    .colab-df-convert {\n",
              "      background-color: #E8F0FE;\n",
              "      border: none;\n",
              "      border-radius: 50%;\n",
              "      cursor: pointer;\n",
              "      display: none;\n",
              "      fill: #1967D2;\n",
              "      height: 32px;\n",
              "      padding: 0 0 0 0;\n",
              "      width: 32px;\n",
              "    }\n",
              "\n",
              "    .colab-df-convert:hover {\n",
              "      background-color: #E2EBFA;\n",
              "      box-shadow: 0px 1px 2px rgba(60, 64, 67, 0.3), 0px 1px 3px 1px rgba(60, 64, 67, 0.15);\n",
              "      fill: #174EA6;\n",
              "    }\n",
              "\n",
              "    [theme=dark] .colab-df-convert {\n",
              "      background-color: #3B4455;\n",
              "      fill: #D2E3FC;\n",
              "    }\n",
              "\n",
              "    [theme=dark] .colab-df-convert:hover {\n",
              "      background-color: #434B5C;\n",
              "      box-shadow: 0px 1px 3px 1px rgba(0, 0, 0, 0.15);\n",
              "      filter: drop-shadow(0px 1px 2px rgba(0, 0, 0, 0.3));\n",
              "      fill: #FFFFFF;\n",
              "    }\n",
              "  </style>\n",
              "\n",
              "      <script>\n",
              "        const buttonEl =\n",
              "          document.querySelector('#df-ba347b3a-6c20-4f7e-9957-b337ac926488 button.colab-df-convert');\n",
              "        buttonEl.style.display =\n",
              "          google.colab.kernel.accessAllowed ? 'block' : 'none';\n",
              "\n",
              "        async function convertToInteractive(key) {\n",
              "          const element = document.querySelector('#df-ba347b3a-6c20-4f7e-9957-b337ac926488');\n",
              "          const dataTable =\n",
              "            await google.colab.kernel.invokeFunction('convertToInteractive',\n",
              "                                                     [key], {});\n",
              "          if (!dataTable) return;\n",
              "\n",
              "          const docLinkHtml = 'Like what you see? Visit the ' +\n",
              "            '<a target=\"_blank\" href=https://colab.research.google.com/notebooks/data_table.ipynb>data table notebook</a>'\n",
              "            + ' to learn more about interactive tables.';\n",
              "          element.innerHTML = '';\n",
              "          dataTable['output_type'] = 'display_data';\n",
              "          await google.colab.output.renderOutput(dataTable, element);\n",
              "          const docLink = document.createElement('div');\n",
              "          docLink.innerHTML = docLinkHtml;\n",
              "          element.appendChild(docLink);\n",
              "        }\n",
              "      </script>\n",
              "    </div>\n",
              "  </div>\n",
              "  "
            ]
          },
          "metadata": {},
          "execution_count": 9
        }
      ]
    },
    {
      "cell_type": "code",
      "source": [
        "import numpy as np\n",
        "x=np.array(data_scaled[['EstimatedSalary','Age']])\n",
        "y=np.array(data_scaled[['Purchased']])"
      ],
      "metadata": {
        "id": "6xSXrsl2WphV"
      },
      "execution_count": 10,
      "outputs": []
    },
    {
      "cell_type": "code",
      "source": [
        "#spliting the data  into training and testing set\n",
        "from sklearn.model_selection import train_test_split\n",
        "x_train,x_test,y_train,y_test=train_test_split(x,y,test_size=0.2,random_state=3)"
      ],
      "metadata": {
        "id": "asobELWUWscL"
      },
      "execution_count": 11,
      "outputs": []
    },
    {
      "cell_type": "code",
      "source": [
        "from sklearn.naive_bayes import GaussianNB \n",
        "model=GaussianNB()"
      ],
      "metadata": {
        "id": "6POMWT-BWuhM"
      },
      "execution_count": 12,
      "outputs": []
    },
    {
      "cell_type": "code",
      "source": [
        "model.fit(x_train,y_train)"
      ],
      "metadata": {
        "colab": {
          "base_uri": "https://localhost:8080/"
        },
        "id": "ERosBhbcWwa7",
        "outputId": "b6252f88-90bf-422f-fc6d-3f3488a55604"
      },
      "execution_count": 13,
      "outputs": [
        {
          "output_type": "stream",
          "name": "stderr",
          "text": [
            "/usr/local/lib/python3.7/dist-packages/sklearn/utils/validation.py:993: DataConversionWarning: A column-vector y was passed when a 1d array was expected. Please change the shape of y to (n_samples, ), for example using ravel().\n",
            "  y = column_or_1d(y, warn=True)\n"
          ]
        },
        {
          "output_type": "execute_result",
          "data": {
            "text/plain": [
              "GaussianNB()"
            ]
          },
          "metadata": {},
          "execution_count": 13
        }
      ]
    },
    {
      "cell_type": "code",
      "source": [
        "x_train"
      ],
      "metadata": {
        "colab": {
          "base_uri": "https://localhost:8080/"
        },
        "id": "dFowbwGpWydW",
        "outputId": "7718a46d-fa0d-478e-879f-ac16fba1b2a2"
      },
      "execution_count": 14,
      "outputs": [
        {
          "output_type": "execute_result",
          "data": {
            "text/plain": [
              "array([[ 2.15119598,  1.46564897],\n",
              "       [ 0.06629116, -0.25358736],\n",
              "       [ 2.32738512,  0.41500455],\n",
              "       [-1.40195167,  0.70154394],\n",
              "       [-0.55037082,  0.89257019],\n",
              "       [ 0.30121002,  0.41500455],\n",
              "       [ 1.06469629,  0.12846516],\n",
              "       [-0.31545197,  0.03295203],\n",
              "       [-0.19799255,  0.31949142],\n",
              "       [-0.57973568, -0.15807423],\n",
              "       [ 1.38770971, -0.54012675],\n",
              "       [-1.1083031 , -1.30423178],\n",
              "       [ 0.06629116, -1.11320552],\n",
              "       [ 2.18056084,  0.89257019],\n",
              "       [-1.07893824,  0.98808332],\n",
              "       [ 1.7988177 ,  0.98808332],\n",
              "       [ 0.30121002, -0.73115301],\n",
              "       [ 0.18375059,  2.03872775],\n",
              "       [-0.84401939,  0.79705706],\n",
              "       [-0.34481683, -1.01769239],\n",
              "       [ 1.24088543, -0.34910049],\n",
              "       [ 0.35993973, -1.87731056],\n",
              "       [-0.46227625, -1.01769239],\n",
              "       [ 0.27184516, -1.20871865],\n",
              "       [-1.37258681,  1.94321462],\n",
              "       [ 1.91627713, -0.54012675],\n",
              "       [-1.54877595, -1.11320552],\n",
              "       [ 1.123426  ,  0.41500455],\n",
              "       [ 0.12502088, -0.63563988],\n",
              "       [-1.40195167,  0.79705706],\n",
              "       [-0.66783025,  0.22397829],\n",
              "       [ 0.38930459,  2.13424088],\n",
              "       [-0.31545197, -0.92217926],\n",
              "       [-0.99084367, -1.6862843 ],\n",
              "       [-0.78528968, -0.34910049],\n",
              "       [-1.46068138,  0.89257019],\n",
              "       [ 0.30121002,  0.31949142],\n",
              "       [ 0.35993973, -1.39974491],\n",
              "       [ 0.30121002,  0.41500455],\n",
              "       [ 0.35993973,  0.79705706],\n",
              "       [-0.37418169,  0.22397829],\n",
              "       [-0.34481683, -1.30423178],\n",
              "       [-0.2273574 , -0.0625611 ],\n",
              "       [-1.5781408 , -1.11320552],\n",
              "       [-1.16703281,  0.98808332],\n",
              "       [ 0.30121002, -1.20871865],\n",
              "       [ 0.03692631,  0.31949142],\n",
              "       [ 2.32738512, -0.44461362],\n",
              "       [ 0.35993973,  1.46564897],\n",
              "       [-0.52100597, -0.0625611 ],\n",
              "       [ 0.12502088,  1.08359645],\n",
              "       [-0.9027491 ,  1.08359645],\n",
              "       [-0.19799255, -1.49525804],\n",
              "       [ 0.00756145, -1.78179743],\n",
              "       [-1.25512738, -1.49525804],\n",
              "       [ 1.24088543,  0.03295203],\n",
              "       [ 0.917872  ,  1.94321462],\n",
              "       [-1.51941109, -1.49525804],\n",
              "       [-0.25672226,  0.12846516],\n",
              "       [ 1.123426  , -0.25358736],\n",
              "       [ 0.18375059, -1.78179743],\n",
              "       [ 0.06629116, -0.0625611 ],\n",
              "       [ 0.06629116,  0.31949142],\n",
              "       [ 0.06629116, -0.25358736],\n",
              "       [-0.49164111, -0.0625611 ],\n",
              "       [ 0.59485858,  1.37013584],\n",
              "       [ 0.30121002,  0.03295203],\n",
              "       [-0.31545197,  0.22397829],\n",
              "       [ 1.85754742,  1.75218836],\n",
              "       [ 0.15438573, -0.0625611 ],\n",
              "       [ 0.41866944, -1.01769239],\n",
              "       [ 1.00596657,  1.75218836],\n",
              "       [-0.28608712, -0.25358736],\n",
              "       [-0.37418169, -0.0625611 ],\n",
              "       [ 0.06629116,  0.31949142],\n",
              "       [-0.4329114 , -1.49525804],\n",
              "       [-1.46068138,  1.17910958],\n",
              "       [ 0.06629116,  0.22397829],\n",
              "       [ 0.35993973, -1.6862843 ],\n",
              "       [-0.37418169, -1.01769239],\n",
              "       [-1.28449224,  1.5611621 ],\n",
              "       [ 0.15438573,  0.22397829],\n",
              "       [ 0.50676401, -0.92217926],\n",
              "       [-0.16862769,  0.41500455],\n",
              "       [ 0.38930459,  2.03872775],\n",
              "       [-1.22576253,  0.79705706],\n",
              "       [-0.72655996,  0.31949142],\n",
              "       [-1.04957339,  0.89257019],\n",
              "       [-1.60750566, -0.73115301],\n",
              "       [ 0.53612887,  2.03872775],\n",
              "       [-0.93211396, -0.25358736],\n",
              "       [-0.25672226, -0.25358736],\n",
              "       [ 0.4480343 , -1.78179743],\n",
              "       [-0.49164111,  0.41500455],\n",
              "       [-0.81465453,  2.13424088],\n",
              "       [ 1.85754742,  0.51051768],\n",
              "       [ 0.09565602,  0.41500455],\n",
              "       [ 2.23929055,  1.27462271],\n",
              "       [ 2.29802026, -0.82666613],\n",
              "       [ 1.09406114,  0.89257019],\n",
              "       [-1.46068138, -1.39974491],\n",
              "       [-0.28608712,  1.84770149],\n",
              "       [ 0.56549373, -0.73115301],\n",
              "       [ 0.77104772,  0.98808332],\n",
              "       [ 1.41707457, -0.15807423],\n",
              "       [-0.72655996,  0.70154394],\n",
              "       [-0.60910054,  0.89257019],\n",
              "       [ 2.18056084, -0.15807423],\n",
              "       [ 0.47739916, -1.11320552],\n",
              "       [-1.40195167, -1.20871865],\n",
              "       [ 0.27184516, -0.92217926],\n",
              "       [ 0.12502088,  0.98808332],\n",
              "       [-0.99084367,  1.17910958],\n",
              "       [ 0.21311545, -0.25358736],\n",
              "       [-0.69719511,  2.13424088],\n",
              "       [ 0.53612887, -1.59077117],\n",
              "       [-1.51941109, -0.63563988],\n",
              "       [-1.07893824, -0.0625611 ],\n",
              "       [ 0.12502088, -1.6862843 ],\n",
              "       [ 0.30121002, -0.0625611 ],\n",
              "       [-1.40195167, -0.25358736],\n",
              "       [ 0.27184516,  0.70154394],\n",
              "       [ 0.38930459, -0.82666613],\n",
              "       [-1.07893824,  1.84770149],\n",
              "       [ 0.03692631,  0.22397829],\n",
              "       [ 1.53453399,  1.84770149],\n",
              "       [ 0.50676401, -0.73115301],\n",
              "       [-0.84401939, -0.44461362],\n",
              "       [-0.57973568, -0.25358736],\n",
              "       [ 1.24088543,  0.51051768],\n",
              "       [ 0.59485858, -1.01769239],\n",
              "       [-1.37258681, -1.6862843 ],\n",
              "       [-0.99084367,  1.08359645],\n",
              "       [ 1.38770971,  0.79705706],\n",
              "       [-1.3138571 , -1.78179743],\n",
              "       [-1.02020853,  0.98808332],\n",
              "       [-1.1083031 ,  0.79705706],\n",
              "       [ 0.03692631, -0.0625611 ],\n",
              "       [-0.55037082,  0.03295203],\n",
              "       [ 0.47739916, -1.6862843 ],\n",
              "       [ 0.4480343 , -0.92217926],\n",
              "       [ 0.30121002, -1.11320552],\n",
              "       [-0.34481683, -0.25358736],\n",
              "       [ 0.85914229, -0.15807423],\n",
              "       [-0.4329114 ,  0.03295203],\n",
              "       [-0.02180341, -0.44461362],\n",
              "       [-1.22576253, -1.39974491],\n",
              "       [-0.75592482,  1.17910958],\n",
              "       [ 2.0043717 ,  1.37013584],\n",
              "       [-1.3138571 , -0.25358736],\n",
              "       [-0.66783025,  0.89257019],\n",
              "       [ 0.30121002, -0.0625611 ],\n",
              "       [-0.55037082, -0.44461362],\n",
              "       [ 1.47580428, -0.54012675],\n",
              "       [ 2.18056084, -0.0625611 ],\n",
              "       [ 0.27184516, -0.73115301],\n",
              "       [ 0.59485858,  0.41500455],\n",
              "       [-1.51941109, -0.54012675],\n",
              "       [ 0.15438573,  0.22397829],\n",
              "       [-1.04957339, -0.63563988],\n",
              "       [-1.28449224,  0.70154394],\n",
              "       [ 0.47739916,  1.08359645],\n",
              "       [-0.52100597, -1.11320552],\n",
              "       [-0.4329114 , -0.25358736],\n",
              "       [ 1.29961514,  1.37013584],\n",
              "       [ 0.33057487, -1.49525804],\n",
              "       [-0.75592482, -1.87731056],\n",
              "       [ 1.41707457, -0.63563988],\n",
              "       [-0.55037082,  0.31949142],\n",
              "       [ 0.59485858, -1.20871865],\n",
              "       [ 0.33057487, -1.11320552],\n",
              "       [-0.9027491 ,  1.65667523],\n",
              "       [-1.07893824,  0.98808332],\n",
              "       [-0.75592482, -0.25358736],\n",
              "       [-0.37418169, -0.25358736],\n",
              "       [-1.13766796, -1.01769239],\n",
              "       [-0.4329114 , -1.30423178],\n",
              "       [ 0.03692631, -0.63563988],\n",
              "       [-0.25672226,  0.22397829],\n",
              "       [ 0.56549373, -1.30423178],\n",
              "       [-1.16703281, -1.11320552],\n",
              "       [ 0.15438573,  0.41500455],\n",
              "       [ 1.88691227,  0.12846516],\n",
              "       [ 0.56549373,  1.08359645],\n",
              "       [ 0.00756145, -0.0625611 ],\n",
              "       [-0.9027491 , -0.25358736],\n",
              "       [-1.25512738, -1.30423178],\n",
              "       [-0.46227625,  0.41500455],\n",
              "       [-0.13926283,  0.03295203],\n",
              "       [ 2.0043717 ,  0.98808332],\n",
              "       [ 0.27184516,  0.12846516],\n",
              "       [ 1.76945285,  2.03872775],\n",
              "       [-0.57973568,  0.03295203],\n",
              "       [-0.05116826, -1.59077117],\n",
              "       [-1.46068138, -1.01769239],\n",
              "       [ 1.88691227,  1.27462271],\n",
              "       [-0.28608712,  1.75218836],\n",
              "       [ 0.53612887, -1.01769239],\n",
              "       [-1.19639767,  0.98808332],\n",
              "       [ 1.27025028,  0.89257019],\n",
              "       [ 0.09565602,  0.12846516],\n",
              "       [ 0.59485858,  0.98808332],\n",
              "       [ 0.03692631,  0.03295203],\n",
              "       [-1.07893824, -1.20871865],\n",
              "       [-1.43131652,  1.37013584],\n",
              "       [-1.60750566, -1.11320552],\n",
              "       [ 1.88691227,  0.98808332],\n",
              "       [-1.5781408 , -1.59077117],\n",
              "       [-0.19799255, -1.39974491],\n",
              "       [-0.84401939,  0.98808332],\n",
              "       [-0.10989798, -1.39974491],\n",
              "       [ 0.03692631,  0.12846516],\n",
              "       [ 1.123426  ,  2.13424088],\n",
              "       [ 1.53453399,  0.12846516],\n",
              "       [ 1.00596657,  1.46564897],\n",
              "       [-0.37418169,  0.22397829],\n",
              "       [ 0.38930459, -0.82666613],\n",
              "       [-0.13926283,  0.41500455],\n",
              "       [-0.78528968, -0.34910049],\n",
              "       [-1.25512738, -0.25358736],\n",
              "       [-1.37258681, -1.30423178],\n",
              "       [ 0.03692631, -0.25358736],\n",
              "       [ 1.65199342, -0.15807423],\n",
              "       [ 0.15438573, -0.15807423],\n",
              "       [ 0.12502088,  1.84770149],\n",
              "       [ 0.41866944, -0.92217926],\n",
              "       [-0.93211396,  1.94321462],\n",
              "       [-0.52100597, -1.87731056],\n",
              "       [ 2.12183112,  0.22397829],\n",
              "       [-0.81465453,  2.03872775],\n",
              "       [ 0.12502088, -0.0625611 ],\n",
              "       [ 0.77104772,  0.12846516],\n",
              "       [-0.13926283,  1.08359645],\n",
              "       [-1.37258681,  0.89257019],\n",
              "       [-0.13926283, -0.25358736],\n",
              "       [ 0.06629116,  0.31949142],\n",
              "       [ 1.123426  ,  1.5611621 ],\n",
              "       [ 0.68295315, -0.0625611 ],\n",
              "       [-0.19799255, -0.15807423],\n",
              "       [-1.43131652, -1.78179743],\n",
              "       [-0.57973568,  0.03295203],\n",
              "       [-0.25672226,  0.03295203],\n",
              "       [-0.31545197,  0.12846516],\n",
              "       [ 1.35834485, -0.73115301],\n",
              "       [ 1.38770971, -0.54012675],\n",
              "       [ 0.15438573,  0.12846516],\n",
              "       [-0.66783025,  1.94321462],\n",
              "       [ 1.41707457, -1.11320552],\n",
              "       [ 1.09406114,  0.22397829],\n",
              "       [-1.22576253, -0.44461362],\n",
              "       [-0.31545197,  0.79705706],\n",
              "       [-0.78528968, -1.11320552],\n",
              "       [ 0.53612887,  1.17910958],\n",
              "       [ 1.62262856, -0.15807423],\n",
              "       [ 0.2424803 , -0.0625611 ],\n",
              "       [ 1.91627713, -0.73115301],\n",
              "       [-0.05116826, -1.87731056],\n",
              "       [ 0.94723686,  2.13424088],\n",
              "       [-0.78528968, -0.44461362],\n",
              "       [ 1.44643942,  0.98808332],\n",
              "       [ 0.00756145,  1.5611621 ],\n",
              "       [ 0.88850715, -0.54012675],\n",
              "       [ 2.18056084,  1.94321462],\n",
              "       [ 2.15119598,  2.03872775],\n",
              "       [-0.96147882, -0.92217926],\n",
              "       [ 0.27184516,  0.79705706],\n",
              "       [-0.52100597, -0.15807423],\n",
              "       [ 0.15438573, -0.25358736],\n",
              "       [-1.46068138, -0.25358736],\n",
              "       [-0.4329114 , -0.0625611 ],\n",
              "       [ 0.03692631,  0.03295203],\n",
              "       [ 0.06629116, -0.34910049],\n",
              "       [ 2.23929055, -0.0625611 ],\n",
              "       [-1.04957339,  2.13424088],\n",
              "       [-0.28608712, -0.44461362],\n",
              "       [ 0.47739916, -1.87731056],\n",
              "       [-1.28449224,  1.84770149],\n",
              "       [-0.78528968, -0.82666613],\n",
              "       [-1.49004624, -1.78179743],\n",
              "       [-0.34481683, -1.01769239],\n",
              "       [-0.78528968, -0.82666613],\n",
              "       [ 1.76945285,  1.65667523],\n",
              "       [ 0.56549373, -0.63563988],\n",
              "       [ 1.27025028,  0.03295203],\n",
              "       [-1.40195167,  0.70154394],\n",
              "       [ 0.21311545, -0.0625611 ],\n",
              "       [-0.66783025, -0.25358736],\n",
              "       [-0.46227625, -0.15807423],\n",
              "       [-0.75592482, -0.92217926],\n",
              "       [ 1.32898   , -0.34910049],\n",
              "       [ 2.35674998, -0.54012675],\n",
              "       [-1.1083031 ,  0.70154394],\n",
              "       [-1.07893824, -0.15807423],\n",
              "       [-1.02020853, -1.11320552],\n",
              "       [ 1.56389885, -0.92217926],\n",
              "       [ 0.03692631,  0.12846516],\n",
              "       [ 1.74008799,  0.51051768],\n",
              "       [-0.05116826, -0.63563988],\n",
              "       [ 0.06629116,  1.46564897],\n",
              "       [ 0.41866944, -1.11320552],\n",
              "       [ 1.00596657,  1.5611621 ],\n",
              "       [ 0.74168287,  1.94321462],\n",
              "       [-0.52100597,  0.31949142],\n",
              "       [-1.60750566, -1.11320552],\n",
              "       [ 0.27184516, -0.25358736],\n",
              "       [-1.22576253,  1.08359645],\n",
              "       [-1.22576253, -0.82666613],\n",
              "       [-0.25672226, -0.82666613],\n",
              "       [-0.31545197,  0.31949142],\n",
              "       [-0.31545197, -0.92217926],\n",
              "       [-0.66783025, -0.82666613],\n",
              "       [ 0.27184516,  0.41500455],\n",
              "       [ 1.88691227,  0.12846516],\n",
              "       [-1.16703281,  0.31949142],\n",
              "       [ 0.53612887,  1.08359645],\n",
              "       [ 0.06629116,  0.31949142],\n",
              "       [-1.13766796, -0.44461362],\n",
              "       [ 0.80041258, -0.25358736],\n",
              "       [ 0.18375059, -0.63563988],\n",
              "       [-0.57973568,  0.89257019]])"
            ]
          },
          "metadata": {},
          "execution_count": 14
        }
      ]
    },
    {
      "cell_type": "code",
      "source": [
        "y_pred=model.predict(x_test)\n",
        "np.set_printoptions(precision=2)\n",
        "print(np.concatenate((y_pred.reshape(len(y_pred),1),y_test.reshape(len(y_test),1)),1))"
      ],
      "metadata": {
        "colab": {
          "base_uri": "https://localhost:8080/"
        },
        "id": "xr93G2JuW04K",
        "outputId": "34be777f-7372-43f8-f87e-7f90d227a84a"
      },
      "execution_count": 15,
      "outputs": [
        {
          "output_type": "stream",
          "name": "stdout",
          "text": [
            "[[1 0]\n",
            " [1 1]\n",
            " [1 1]\n",
            " [0 0]\n",
            " [0 0]\n",
            " [0 0]\n",
            " [1 1]\n",
            " [0 0]\n",
            " [0 0]\n",
            " [0 0]\n",
            " [0 0]\n",
            " [0 0]\n",
            " [1 1]\n",
            " [0 0]\n",
            " [0 0]\n",
            " [0 0]\n",
            " [0 0]\n",
            " [0 0]\n",
            " [1 1]\n",
            " [0 0]\n",
            " [0 0]\n",
            " [0 0]\n",
            " [0 0]\n",
            " [0 0]\n",
            " [0 0]\n",
            " [0 0]\n",
            " [0 0]\n",
            " [1 1]\n",
            " [0 0]\n",
            " [1 1]\n",
            " [1 1]\n",
            " [0 0]\n",
            " [1 1]\n",
            " [1 0]\n",
            " [0 0]\n",
            " [0 0]\n",
            " [0 1]\n",
            " [0 0]\n",
            " [0 1]\n",
            " [0 0]\n",
            " [1 1]\n",
            " [1 1]\n",
            " [1 1]\n",
            " [0 0]\n",
            " [1 1]\n",
            " [0 0]\n",
            " [0 0]\n",
            " [1 1]\n",
            " [0 0]\n",
            " [0 0]\n",
            " [0 0]\n",
            " [0 0]\n",
            " [0 0]\n",
            " [0 1]\n",
            " [1 1]\n",
            " [0 1]\n",
            " [0 0]\n",
            " [1 1]\n",
            " [0 0]\n",
            " [0 0]\n",
            " [0 0]\n",
            " [1 1]\n",
            " [1 0]\n",
            " [0 0]\n",
            " [0 0]\n",
            " [0 1]\n",
            " [1 0]\n",
            " [1 1]\n",
            " [0 0]\n",
            " [1 1]\n",
            " [0 0]\n",
            " [1 1]\n",
            " [0 0]\n",
            " [0 0]\n",
            " [0 0]\n",
            " [0 0]\n",
            " [0 0]\n",
            " [0 0]\n",
            " [0 0]\n",
            " [0 0]]\n"
          ]
        }
      ]
    },
    {
      "cell_type": "code",
      "source": [
        "print(\"Predicted value for training data:\",model.score(x_train,y_train))\n",
        "print(\"Training accuracy:\",model.score(x_train,y_train)*100)"
      ],
      "metadata": {
        "colab": {
          "base_uri": "https://localhost:8080/"
        },
        "id": "QXz4UlcTW4EJ",
        "outputId": "a8031159-0f63-4cd5-86fa-7bfa10a3c4bc"
      },
      "execution_count": 16,
      "outputs": [
        {
          "output_type": "stream",
          "name": "stdout",
          "text": [
            "Predicted value for training data: 0.89375\n",
            "Training accuracy: 89.375\n"
          ]
        }
      ]
    },
    {
      "cell_type": "code",
      "source": [
        "print(\"Predicted value for testing data:\",model.score(x_test,y_test))\n",
        "print(\"Testing accuracy:\",model.score(x_test,y_test)*100)"
      ],
      "metadata": {
        "colab": {
          "base_uri": "https://localhost:8080/"
        },
        "id": "phPczJhmW9je",
        "outputId": "0f368deb-fc53-429b-ef57-025c79c30bae"
      },
      "execution_count": 17,
      "outputs": [
        {
          "output_type": "stream",
          "name": "stdout",
          "text": [
            "Predicted value for testing data: 0.8875\n",
            "Testing accuracy: 88.75\n"
          ]
        }
      ]
    },
    {
      "cell_type": "code",
      "source": [
        "accuracy=model.score(x,y)*100\n",
        "print(accuracy)"
      ],
      "metadata": {
        "colab": {
          "base_uri": "https://localhost:8080/"
        },
        "id": "QbTjpiw1W_xi",
        "outputId": "82b92fe3-6757-49f3-8e47-d370eb302fd0"
      },
      "execution_count": 18,
      "outputs": [
        {
          "output_type": "stream",
          "name": "stdout",
          "text": [
            "89.25\n"
          ]
        }
      ]
    },
    {
      "cell_type": "code",
      "source": [
        "from sklearn.metrics import confusion_matrix,accuracy_score\n",
        "cm=confusion_matrix(y_test,y_pred)\n",
        "print(cm)\n",
        "accuracy_score(y_test,y_pred)"
      ],
      "metadata": {
        "colab": {
          "base_uri": "https://localhost:8080/"
        },
        "id": "1yGAAawMXBv2",
        "outputId": "b1ffd510-b99f-4357-a24b-23fb55904463"
      },
      "execution_count": 19,
      "outputs": [
        {
          "output_type": "stream",
          "name": "stdout",
          "text": [
            "[[51  4]\n",
            " [ 5 20]]\n"
          ]
        },
        {
          "output_type": "execute_result",
          "data": {
            "text/plain": [
              "0.8875"
            ]
          },
          "metadata": {},
          "execution_count": 19
        }
      ]
    },
    {
      "cell_type": "code",
      "source": [
        "y_train=y_train.flatten()"
      ],
      "metadata": {
        "id": "x1bA85GhXDfh"
      },
      "execution_count": 20,
      "outputs": []
    },
    {
      "cell_type": "code",
      "source": [
        "import matplotlib.pyplot as plt\n",
        "from matplotlib. colors import ListedColormap\n",
        "x_set, y_set = sst.inverse_transform(x_train),y_train\n",
        "x1,x2 = np.meshgrid(np. arange(start = x_set[:, 0].min( )-10,stop= x_set[:, 0].max() + 10, step = 0.25) ,\n",
        "np.arange(start = x_set[:, 1].min( )- 1000, stop = x_set[:, 1].max ( ) + 1000, step = 0.25))\n",
        "plt. contourf(x1,x2,model.predict(sst.transform(np.array([x1.ravel(), x2.ravel()]). T) ).reshape (x1. shape ),\n",
        "alpha = 0.75, map = ListedColormap(('red','green' )) )\n",
        "plt. xlim(x1.min( ), x1.max( ))\n",
        "plt.ylim(x2.min( ), x2. max( ))\n",
        "for i, j in enumerate(np.unique(y_set)):\n",
        "  plt.scatter(x_set[y_set == j,0],x_set[y_set ==j,1],c = ListedColormap(('red','green'))(i),label=j)\n",
        "plt. title('naive_bayes (Training set)')\n",
        "plt.xlabel('Age')\n",
        "plt. ylabel('Estimated Salary')\n",
        "plt. legend()\n",
        "plt.show()"
      ],
      "metadata": {
        "colab": {
          "base_uri": "https://localhost:8080/",
          "height": 384
        },
        "id": "-CADqN8mXFbI",
        "outputId": "9df57c5b-91d4-4500-a549-e8837f512725"
      },
      "execution_count": 21,
      "outputs": [
        {
          "output_type": "stream",
          "name": "stderr",
          "text": [
            "/usr/local/lib/python3.7/dist-packages/ipykernel_launcher.py:7: UserWarning: The following kwargs were not used by contour: 'map'\n",
            "  import sys\n",
            "*c* argument looks like a single numeric RGB or RGBA sequence, which should be avoided as value-mapping will have precedence in case its length matches with *x* & *y*.  Please use the *color* keyword-argument or provide a 2-D array with a single row if you intend to specify the same RGB or RGBA value for all points.\n",
            "*c* argument looks like a single numeric RGB or RGBA sequence, which should be avoided as value-mapping will have precedence in case its length matches with *x* & *y*.  Please use the *color* keyword-argument or provide a 2-D array with a single row if you intend to specify the same RGB or RGBA value for all points.\n"
          ]
        },
        {
          "output_type": "display_data",
          "data": {
            "text/plain": [
              "<Figure size 432x288 with 1 Axes>"
            ],
            "image/png": "[encoded data removed]"
          },
          "metadata": {
            "needs_background": "light"
          }
        }
      ]
    },
    {
      "cell_type": "code",
      "source": [
        "y_test=y_test.flatten()"
      ],
      "metadata": {
        "id": "4eDMbBz6XHms"
      },
      "execution_count": 22,
      "outputs": []
    },
    {
      "cell_type": "code",
      "source": [
        "from matplotlib. colors import ListedColormap\n",
        "x_set, y_set = sst.inverse_transform(x_test),y_test\n",
        "x1,x2 = np.meshgrid(np. arange(start = x_set[:, 0].min( )-10,stop= x_set[:, 0].max() + 10, step = 0.25) ,\n",
        "np.arange(start = x_set[:, 1].min( )- 1000, stop = x_set[:, 1].max ( ) + 1000, step = 0.25))\n",
        "plt. contourf(x1,x2,model.predict(sst.transform(np.array([x1.ravel(), x2.ravel()]). T) ).reshape (x1. shape ),\n",
        "alpha = 0.75, map = ListedColormap(('red','green' )) )\n",
        "plt. xlim(x1.min( ), x1.max( ))\n",
        "plt.ylim(x2.min( ), x2. max( ))\n",
        "for i, j in enumerate(np.unique(y_set)):\n",
        "  plt.scatter(x_set[y_set == j,0],x_set[y_set ==j,1],c = ListedColormap(('red','green'))(i),label=j)\n",
        "plt. title('naive_bayes(Testing set)')\n",
        "plt.xlabel('Age')\n",
        "plt. ylabel('Estimated Salary')\n",
        "plt. legend()\n",
        "plt.show()"
      ],
      "metadata": {
        "colab": {
          "base_uri": "https://localhost:8080/",
          "height": 384
        },
        "id": "Up7xAT4OXLBv",
        "outputId": "2cddd67b-a762-45cd-d1d1-9b94896f2105"
      },
      "execution_count": 23,
      "outputs": [
        {
          "output_type": "stream",
          "name": "stderr",
          "text": [
            "/usr/local/lib/python3.7/dist-packages/ipykernel_launcher.py:6: UserWarning: The following kwargs were not used by contour: 'map'\n",
            "  \n",
            "*c* argument looks like a single numeric RGB or RGBA sequence, which should be avoided as value-mapping will have precedence in case its length matches with *x* & *y*.  Please use the *color* keyword-argument or provide a 2-D array with a single row if you intend to specify the same RGB or RGBA value for all points.\n",
            "*c* argument looks like a single numeric RGB or RGBA sequence, which should be avoided as value-mapping will have precedence in case its length matches with *x* & *y*.  Please use the *color* keyword-argument or provide a 2-D array with a single row if you intend to specify the same RGB or RGBA value for all points.\n"
          ]
        },
        {
          "output_type": "display_data",
          "data": {
            "text/plain": [
              "<Figure size 432x288 with 1 Axes>"
            ],
            "image/png": "[encoded data removed]"
          },
          "metadata": {
            "needs_background": "light"
          }
        }
      ]
    },
    {
      "cell_type": "code",
      "source": [
        "from sklearn.tree import DecisionTreeClassifier\n",
        "modeldt=DecisionTreeClassifier()"
      ],
      "metadata": {
        "id": "54bW2saZXYPC"
      },
      "execution_count": 24,
      "outputs": []
    },
    {
      "cell_type": "code",
      "source": [
        "modeldt.fit(x_train,y_train)"
      ],
      "metadata": {
        "colab": {
          "base_uri": "https://localhost:8080/"
        },
        "id": "WTTF_IEIXcZZ",
        "outputId": "250dabe0-2a50-444b-be5a-b59d6537954a"
      },
      "execution_count": 25,
      "outputs": [
        {
          "output_type": "execute_result",
          "data": {
            "text/plain": [
              "DecisionTreeClassifier()"
            ]
          },
          "metadata": {},
          "execution_count": 25
        }
      ]
    },
    {
      "cell_type": "code",
      "source": [
        "x_train"
      ],
      "metadata": {
        "colab": {
          "base_uri": "https://localhost:8080/"
        },
        "id": "MEwxjNrPXezK",
        "outputId": "78f95d77-990c-4be5-c063-6541e1847351"
      },
      "execution_count": 26,
      "outputs": [
        {
          "output_type": "execute_result",
          "data": {
            "text/plain": [
              "array([[ 2.15,  1.47],\n",
              "       [ 0.07, -0.25],\n",
              "       [ 2.33,  0.42],\n",
              "       [-1.4 ,  0.7 ],\n",
              "       [-0.55,  0.89],\n",
              "       [ 0.3 ,  0.42],\n",
              "       [ 1.06,  0.13],\n",
              "       [-0.32,  0.03],\n",
              "       [-0.2 ,  0.32],\n",
              "       [-0.58, -0.16],\n",
              "       [ 1.39, -0.54],\n",
              "       [-1.11, -1.3 ],\n",
              "       [ 0.07, -1.11],\n",
              "       [ 2.18,  0.89],\n",
              "       [-1.08,  0.99],\n",
              "       [ 1.8 ,  0.99],\n",
              "       [ 0.3 , -0.73],\n",
              "       [ 0.18,  2.04],\n",
              "       [-0.84,  0.8 ],\n",
              "       [-0.34, -1.02],\n",
              "       [ 1.24, -0.35],\n",
              "       [ 0.36, -1.88],\n",
              "       [-0.46, -1.02],\n",
              "       [ 0.27, -1.21],\n",
              "       [-1.37,  1.94],\n",
              "       [ 1.92, -0.54],\n",
              "       [-1.55, -1.11],\n",
              "       [ 1.12,  0.42],\n",
              "       [ 0.13, -0.64],\n",
              "       [-1.4 ,  0.8 ],\n",
              "       [-0.67,  0.22],\n",
              "       [ 0.39,  2.13],\n",
              "       [-0.32, -0.92],\n",
              "       [-0.99, -1.69],\n",
              "       [-0.79, -0.35],\n",
              "       [-1.46,  0.89],\n",
              "       [ 0.3 ,  0.32],\n",
              "       [ 0.36, -1.4 ],\n",
              "       [ 0.3 ,  0.42],\n",
              "       [ 0.36,  0.8 ],\n",
              "       [-0.37,  0.22],\n",
              "       [-0.34, -1.3 ],\n",
              "       [-0.23, -0.06],\n",
              "       [-1.58, -1.11],\n",
              "       [-1.17,  0.99],\n",
              "       [ 0.3 , -1.21],\n",
              "       [ 0.04,  0.32],\n",
              "       [ 2.33, -0.44],\n",
              "       [ 0.36,  1.47],\n",
              "       [-0.52, -0.06],\n",
              "       [ 0.13,  1.08],\n",
              "       [-0.9 ,  1.08],\n",
              "       [-0.2 , -1.5 ],\n",
              "       [ 0.01, -1.78],\n",
              "       [-1.26, -1.5 ],\n",
              "       [ 1.24,  0.03],\n",
              "       [ 0.92,  1.94],\n",
              "       [-1.52, -1.5 ],\n",
              "       [-0.26,  0.13],\n",
              "       [ 1.12, -0.25],\n",
              "       [ 0.18, -1.78],\n",
              "       [ 0.07, -0.06],\n",
              "       [ 0.07,  0.32],\n",
              "       [ 0.07, -0.25],\n",
              "       [-0.49, -0.06],\n",
              "       [ 0.59,  1.37],\n",
              "       [ 0.3 ,  0.03],\n",
              "       [-0.32,  0.22],\n",
              "       [ 1.86,  1.75],\n",
              "       [ 0.15, -0.06],\n",
              "       [ 0.42, -1.02],\n",
              "       [ 1.01,  1.75],\n",
              "       [-0.29, -0.25],\n",
              "       [-0.37, -0.06],\n",
              "       [ 0.07,  0.32],\n",
              "       [-0.43, -1.5 ],\n",
              "       [-1.46,  1.18],\n",
              "       [ 0.07,  0.22],\n",
              "       [ 0.36, -1.69],\n",
              "       [-0.37, -1.02],\n",
              "       [-1.28,  1.56],\n",
              "       [ 0.15,  0.22],\n",
              "       [ 0.51, -0.92],\n",
              "       [-0.17,  0.42],\n",
              "       [ 0.39,  2.04],\n",
              "       [-1.23,  0.8 ],\n",
              "       [-0.73,  0.32],\n",
              "       [-1.05,  0.89],\n",
              "       [-1.61, -0.73],\n",
              "       [ 0.54,  2.04],\n",
              "       [-0.93, -0.25],\n",
              "       [-0.26, -0.25],\n",
              "       [ 0.45, -1.78],\n",
              "       [-0.49,  0.42],\n",
              "       [-0.81,  2.13],\n",
              "       [ 1.86,  0.51],\n",
              "       [ 0.1 ,  0.42],\n",
              "       [ 2.24,  1.27],\n",
              "       [ 2.3 , -0.83],\n",
              "       [ 1.09,  0.89],\n",
              "       [-1.46, -1.4 ],\n",
              "       [-0.29,  1.85],\n",
              "       [ 0.57, -0.73],\n",
              "       [ 0.77,  0.99],\n",
              "       [ 1.42, -0.16],\n",
              "       [-0.73,  0.7 ],\n",
              "       [-0.61,  0.89],\n",
              "       [ 2.18, -0.16],\n",
              "       [ 0.48, -1.11],\n",
              "       [-1.4 , -1.21],\n",
              "       [ 0.27, -0.92],\n",
              "       [ 0.13,  0.99],\n",
              "       [-0.99,  1.18],\n",
              "       [ 0.21, -0.25],\n",
              "       [-0.7 ,  2.13],\n",
              "       [ 0.54, -1.59],\n",
              "       [-1.52, -0.64],\n",
              "       [-1.08, -0.06],\n",
              "       [ 0.13, -1.69],\n",
              "       [ 0.3 , -0.06],\n",
              "       [-1.4 , -0.25],\n",
              "       [ 0.27,  0.7 ],\n",
              "       [ 0.39, -0.83],\n",
              "       [-1.08,  1.85],\n",
              "       [ 0.04,  0.22],\n",
              "       [ 1.53,  1.85],\n",
              "       [ 0.51, -0.73],\n",
              "       [-0.84, -0.44],\n",
              "       [-0.58, -0.25],\n",
              "       [ 1.24,  0.51],\n",
              "       [ 0.59, -1.02],\n",
              "       [-1.37, -1.69],\n",
              "       [-0.99,  1.08],\n",
              "       [ 1.39,  0.8 ],\n",
              "       [-1.31, -1.78],\n",
              "       [-1.02,  0.99],\n",
              "       [-1.11,  0.8 ],\n",
              "       [ 0.04, -0.06],\n",
              "       [-0.55,  0.03],\n",
              "       [ 0.48, -1.69],\n",
              "       [ 0.45, -0.92],\n",
              "       [ 0.3 , -1.11],\n",
              "       [-0.34, -0.25],\n",
              "       [ 0.86, -0.16],\n",
              "       [-0.43,  0.03],\n",
              "       [-0.02, -0.44],\n",
              "       [-1.23, -1.4 ],\n",
              "       [-0.76,  1.18],\n",
              "       [ 2.  ,  1.37],\n",
              "       [-1.31, -0.25],\n",
              "       [-0.67,  0.89],\n",
              "       [ 0.3 , -0.06],\n",
              "       [-0.55, -0.44],\n",
              "       [ 1.48, -0.54],\n",
              "       [ 2.18, -0.06],\n",
              "       [ 0.27, -0.73],\n",
              "       [ 0.59,  0.42],\n",
              "       [-1.52, -0.54],\n",
              "       [ 0.15,  0.22],\n",
              "       [-1.05, -0.64],\n",
              "       [-1.28,  0.7 ],\n",
              "       [ 0.48,  1.08],\n",
              "       [-0.52, -1.11],\n",
              "       [-0.43, -0.25],\n",
              "       [ 1.3 ,  1.37],\n",
              "       [ 0.33, -1.5 ],\n",
              "       [-0.76, -1.88],\n",
              "       [ 1.42, -0.64],\n",
              "       [-0.55,  0.32],\n",
              "       [ 0.59, -1.21],\n",
              "       [ 0.33, -1.11],\n",
              "       [-0.9 ,  1.66],\n",
              "       [-1.08,  0.99],\n",
              "       [-0.76, -0.25],\n",
              "       [-0.37, -0.25],\n",
              "       [-1.14, -1.02],\n",
              "       [-0.43, -1.3 ],\n",
              "       [ 0.04, -0.64],\n",
              "       [-0.26,  0.22],\n",
              "       [ 0.57, -1.3 ],\n",
              "       [-1.17, -1.11],\n",
              "       [ 0.15,  0.42],\n",
              "       [ 1.89,  0.13],\n",
              "       [ 0.57,  1.08],\n",
              "       [ 0.01, -0.06],\n",
              "       [-0.9 , -0.25],\n",
              "       [-1.26, -1.3 ],\n",
              "       [-0.46,  0.42],\n",
              "       [-0.14,  0.03],\n",
              "       [ 2.  ,  0.99],\n",
              "       [ 0.27,  0.13],\n",
              "       [ 1.77,  2.04],\n",
              "       [-0.58,  0.03],\n",
              "       [-0.05, -1.59],\n",
              "       [-1.46, -1.02],\n",
              "       [ 1.89,  1.27],\n",
              "       [-0.29,  1.75],\n",
              "       [ 0.54, -1.02],\n",
              "       [-1.2 ,  0.99],\n",
              "       [ 1.27,  0.89],\n",
              "       [ 0.1 ,  0.13],\n",
              "       [ 0.59,  0.99],\n",
              "       [ 0.04,  0.03],\n",
              "       [-1.08, -1.21],\n",
              "       [-1.43,  1.37],\n",
              "       [-1.61, -1.11],\n",
              "       [ 1.89,  0.99],\n",
              "       [-1.58, -1.59],\n",
              "       [-0.2 , -1.4 ],\n",
              "       [-0.84,  0.99],\n",
              "       [-0.11, -1.4 ],\n",
              "       [ 0.04,  0.13],\n",
              "       [ 1.12,  2.13],\n",
              "       [ 1.53,  0.13],\n",
              "       [ 1.01,  1.47],\n",
              "       [-0.37,  0.22],\n",
              "       [ 0.39, -0.83],\n",
              "       [-0.14,  0.42],\n",
              "       [-0.79, -0.35],\n",
              "       [-1.26, -0.25],\n",
              "       [-1.37, -1.3 ],\n",
              "       [ 0.04, -0.25],\n",
              "       [ 1.65, -0.16],\n",
              "       [ 0.15, -0.16],\n",
              "       [ 0.13,  1.85],\n",
              "       [ 0.42, -0.92],\n",
              "       [-0.93,  1.94],\n",
              "       [-0.52, -1.88],\n",
              "       [ 2.12,  0.22],\n",
              "       [-0.81,  2.04],\n",
              "       [ 0.13, -0.06],\n",
              "       [ 0.77,  0.13],\n",
              "       [-0.14,  1.08],\n",
              "       [-1.37,  0.89],\n",
              "       [-0.14, -0.25],\n",
              "       [ 0.07,  0.32],\n",
              "       [ 1.12,  1.56],\n",
              "       [ 0.68, -0.06],\n",
              "       [-0.2 , -0.16],\n",
              "       [-1.43, -1.78],\n",
              "       [-0.58,  0.03],\n",
              "       [-0.26,  0.03],\n",
              "       [-0.32,  0.13],\n",
              "       [ 1.36, -0.73],\n",
              "       [ 1.39, -0.54],\n",
              "       [ 0.15,  0.13],\n",
              "       [-0.67,  1.94],\n",
              "       [ 1.42, -1.11],\n",
              "       [ 1.09,  0.22],\n",
              "       [-1.23, -0.44],\n",
              "       [-0.32,  0.8 ],\n",
              "       [-0.79, -1.11],\n",
              "       [ 0.54,  1.18],\n",
              "       [ 1.62, -0.16],\n",
              "       [ 0.24, -0.06],\n",
              "       [ 1.92, -0.73],\n",
              "       [-0.05, -1.88],\n",
              "       [ 0.95,  2.13],\n",
              "       [-0.79, -0.44],\n",
              "       [ 1.45,  0.99],\n",
              "       [ 0.01,  1.56],\n",
              "       [ 0.89, -0.54],\n",
              "       [ 2.18,  1.94],\n",
              "       [ 2.15,  2.04],\n",
              "       [-0.96, -0.92],\n",
              "       [ 0.27,  0.8 ],\n",
              "       [-0.52, -0.16],\n",
              "       [ 0.15, -0.25],\n",
              "       [-1.46, -0.25],\n",
              "       [-0.43, -0.06],\n",
              "       [ 0.04,  0.03],\n",
              "       [ 0.07, -0.35],\n",
              "       [ 2.24, -0.06],\n",
              "       [-1.05,  2.13],\n",
              "       [-0.29, -0.44],\n",
              "       [ 0.48, -1.88],\n",
              "       [-1.28,  1.85],\n",
              "       [-0.79, -0.83],\n",
              "       [-1.49, -1.78],\n",
              "       [-0.34, -1.02],\n",
              "       [-0.79, -0.83],\n",
              "       [ 1.77,  1.66],\n",
              "       [ 0.57, -0.64],\n",
              "       [ 1.27,  0.03],\n",
              "       [-1.4 ,  0.7 ],\n",
              "       [ 0.21, -0.06],\n",
              "       [-0.67, -0.25],\n",
              "       [-0.46, -0.16],\n",
              "       [-0.76, -0.92],\n",
              "       [ 1.33, -0.35],\n",
              "       [ 2.36, -0.54],\n",
              "       [-1.11,  0.7 ],\n",
              "       [-1.08, -0.16],\n",
              "       [-1.02, -1.11],\n",
              "       [ 1.56, -0.92],\n",
              "       [ 0.04,  0.13],\n",
              "       [ 1.74,  0.51],\n",
              "       [-0.05, -0.64],\n",
              "       [ 0.07,  1.47],\n",
              "       [ 0.42, -1.11],\n",
              "       [ 1.01,  1.56],\n",
              "       [ 0.74,  1.94],\n",
              "       [-0.52,  0.32],\n",
              "       [-1.61, -1.11],\n",
              "       [ 0.27, -0.25],\n",
              "       [-1.23,  1.08],\n",
              "       [-1.23, -0.83],\n",
              "       [-0.26, -0.83],\n",
              "       [-0.32,  0.32],\n",
              "       [-0.32, -0.92],\n",
              "       [-0.67, -0.83],\n",
              "       [ 0.27,  0.42],\n",
              "       [ 1.89,  0.13],\n",
              "       [-1.17,  0.32],\n",
              "       [ 0.54,  1.08],\n",
              "       [ 0.07,  0.32],\n",
              "       [-1.14, -0.44],\n",
              "       [ 0.8 , -0.25],\n",
              "       [ 0.18, -0.64],\n",
              "       [-0.58,  0.89]])"
            ]
          },
          "metadata": {},
          "execution_count": 26
        }
      ]
    },
    {
      "cell_type": "code",
      "source": [
        "print(\"Predicted value for training data:\",modeldt.score(x_train,y_train))\n",
        "print(\"Training accuracy:\",modeldt.score(x_train,y_train)*100)"
      ],
      "metadata": {
        "colab": {
          "base_uri": "https://localhost:8080/"
        },
        "id": "1wVtGpd0Xhbf",
        "outputId": "466fc1a0-9cdf-4088-e2f0-ef2e700728b5"
      },
      "execution_count": 27,
      "outputs": [
        {
          "output_type": "stream",
          "name": "stdout",
          "text": [
            "Predicted value for training data: 0.99375\n",
            "Training accuracy: 99.375\n"
          ]
        }
      ]
    },
    {
      "cell_type": "code",
      "source": [
        "print(\"Predicted value for testing data:\",modeldt.score(x_test,y_test))\n",
        "print(\"Testing accuracy:\",modeldt.score(x_test,y_test)*100)"
      ],
      "metadata": {
        "colab": {
          "base_uri": "https://localhost:8080/"
        },
        "id": "Ps9hEjmPXkGG",
        "outputId": "e20c453e-1001-4fbd-f30f-e4666833245d"
      },
      "execution_count": 28,
      "outputs": [
        {
          "output_type": "stream",
          "name": "stdout",
          "text": [
            "Predicted value for testing data: 0.825\n",
            "Testing accuracy: 82.5\n"
          ]
        }
      ]
    },
    {
      "cell_type": "code",
      "source": [
        "accuracy=modeldt.score(x,y)*100\n",
        "print(accuracy)"
      ],
      "metadata": {
        "colab": {
          "base_uri": "https://localhost:8080/"
        },
        "id": "VzrysDQgXl7p",
        "outputId": "9c457ea3-eb34-458b-d3e9-b0519732ce86"
      },
      "execution_count": 29,
      "outputs": [
        {
          "output_type": "stream",
          "name": "stdout",
          "text": [
            "96.0\n"
          ]
        }
      ]
    },
    {
      "cell_type": "code",
      "source": [
        "from sklearn.metrics import confusion_matrix,accuracy_score\n",
        "cm=confusion_matrix(y_test,y_pred)\n",
        "print(cm)\n",
        "accuracy_score(y_test,y_pred)"
      ],
      "metadata": {
        "colab": {
          "base_uri": "https://localhost:8080/"
        },
        "id": "Z7aoaraUXnVu",
        "outputId": "6e7500cb-949d-4535-a6f2-bf6a23661c2b"
      },
      "execution_count": 30,
      "outputs": [
        {
          "output_type": "stream",
          "name": "stdout",
          "text": [
            "[[51  4]\n",
            " [ 5 20]]\n"
          ]
        },
        {
          "output_type": "execute_result",
          "data": {
            "text/plain": [
              "0.8875"
            ]
          },
          "metadata": {},
          "execution_count": 30
        }
      ]
    },
    {
      "cell_type": "code",
      "source": [
        "from sklearn.svm import SVC\n",
        "modelsvc=SVC()"
      ],
      "metadata": {
        "id": "OOaf2LGhXo7H"
      },
      "execution_count": 31,
      "outputs": []
    },
    {
      "cell_type": "code",
      "source": [
        "modelsvc.fit(x_train,y_train)"
      ],
      "metadata": {
        "colab": {
          "base_uri": "https://localhost:8080/"
        },
        "id": "H1pD0cgZXrTR",
        "outputId": "2e8adfd2-fb7e-42e0-9d70-c2f8235c6f88"
      },
      "execution_count": 32,
      "outputs": [
        {
          "output_type": "execute_result",
          "data": {
            "text/plain": [
              "SVC()"
            ]
          },
          "metadata": {},
          "execution_count": 32
        }
      ]
    },
    {
      "cell_type": "code",
      "source": [
        "x_train"
      ],
      "metadata": {
        "colab": {
          "base_uri": "https://localhost:8080/"
        },
        "id": "iSGdifZsXstx",
        "outputId": "e70b4b37-f382-4e84-9943-e24b6c1ec3b0"
      },
      "execution_count": 33,
      "outputs": [
        {
          "output_type": "execute_result",
          "data": {
            "text/plain": [
              "array([[ 2.15,  1.47],\n",
              "       [ 0.07, -0.25],\n",
              "       [ 2.33,  0.42],\n",
              "       [-1.4 ,  0.7 ],\n",
              "       [-0.55,  0.89],\n",
              "       [ 0.3 ,  0.42],\n",
              "       [ 1.06,  0.13],\n",
              "       [-0.32,  0.03],\n",
              "       [-0.2 ,  0.32],\n",
              "       [-0.58, -0.16],\n",
              "       [ 1.39, -0.54],\n",
              "       [-1.11, -1.3 ],\n",
              "       [ 0.07, -1.11],\n",
              "       [ 2.18,  0.89],\n",
              "       [-1.08,  0.99],\n",
              "       [ 1.8 ,  0.99],\n",
              "       [ 0.3 , -0.73],\n",
              "       [ 0.18,  2.04],\n",
              "       [-0.84,  0.8 ],\n",
              "       [-0.34, -1.02],\n",
              "       [ 1.24, -0.35],\n",
              "       [ 0.36, -1.88],\n",
              "       [-0.46, -1.02],\n",
              "       [ 0.27, -1.21],\n",
              "       [-1.37,  1.94],\n",
              "       [ 1.92, -0.54],\n",
              "       [-1.55, -1.11],\n",
              "       [ 1.12,  0.42],\n",
              "       [ 0.13, -0.64],\n",
              "       [-1.4 ,  0.8 ],\n",
              "       [-0.67,  0.22],\n",
              "       [ 0.39,  2.13],\n",
              "       [-0.32, -0.92],\n",
              "       [-0.99, -1.69],\n",
              "       [-0.79, -0.35],\n",
              "       [-1.46,  0.89],\n",
              "       [ 0.3 ,  0.32],\n",
              "       [ 0.36, -1.4 ],\n",
              "       [ 0.3 ,  0.42],\n",
              "       [ 0.36,  0.8 ],\n",
              "       [-0.37,  0.22],\n",
              "       [-0.34, -1.3 ],\n",
              "       [-0.23, -0.06],\n",
              "       [-1.58, -1.11],\n",
              "       [-1.17,  0.99],\n",
              "       [ 0.3 , -1.21],\n",
              "       [ 0.04,  0.32],\n",
              "       [ 2.33, -0.44],\n",
              "       [ 0.36,  1.47],\n",
              "       [-0.52, -0.06],\n",
              "       [ 0.13,  1.08],\n",
              "       [-0.9 ,  1.08],\n",
              "       [-0.2 , -1.5 ],\n",
              "       [ 0.01, -1.78],\n",
              "       [-1.26, -1.5 ],\n",
              "       [ 1.24,  0.03],\n",
              "       [ 0.92,  1.94],\n",
              "       [-1.52, -1.5 ],\n",
              "       [-0.26,  0.13],\n",
              "       [ 1.12, -0.25],\n",
              "       [ 0.18, -1.78],\n",
              "       [ 0.07, -0.06],\n",
              "       [ 0.07,  0.32],\n",
              "       [ 0.07, -0.25],\n",
              "       [-0.49, -0.06],\n",
              "       [ 0.59,  1.37],\n",
              "       [ 0.3 ,  0.03],\n",
              "       [-0.32,  0.22],\n",
              "       [ 1.86,  1.75],\n",
              "       [ 0.15, -0.06],\n",
              "       [ 0.42, -1.02],\n",
              "       [ 1.01,  1.75],\n",
              "       [-0.29, -0.25],\n",
              "       [-0.37, -0.06],\n",
              "       [ 0.07,  0.32],\n",
              "       [-0.43, -1.5 ],\n",
              "       [-1.46,  1.18],\n",
              "       [ 0.07,  0.22],\n",
              "       [ 0.36, -1.69],\n",
              "       [-0.37, -1.02],\n",
              "       [-1.28,  1.56],\n",
              "       [ 0.15,  0.22],\n",
              "       [ 0.51, -0.92],\n",
              "       [-0.17,  0.42],\n",
              "       [ 0.39,  2.04],\n",
              "       [-1.23,  0.8 ],\n",
              "       [-0.73,  0.32],\n",
              "       [-1.05,  0.89],\n",
              "       [-1.61, -0.73],\n",
              "       [ 0.54,  2.04],\n",
              "       [-0.93, -0.25],\n",
              "       [-0.26, -0.25],\n",
              "       [ 0.45, -1.78],\n",
              "       [-0.49,  0.42],\n",
              "       [-0.81,  2.13],\n",
              "       [ 1.86,  0.51],\n",
              "       [ 0.1 ,  0.42],\n",
              "       [ 2.24,  1.27],\n",
              "       [ 2.3 , -0.83],\n",
              "       [ 1.09,  0.89],\n",
              "       [-1.46, -1.4 ],\n",
              "       [-0.29,  1.85],\n",
              "       [ 0.57, -0.73],\n",
              "       [ 0.77,  0.99],\n",
              "       [ 1.42, -0.16],\n",
              "       [-0.73,  0.7 ],\n",
              "       [-0.61,  0.89],\n",
              "       [ 2.18, -0.16],\n",
              "       [ 0.48, -1.11],\n",
              "       [-1.4 , -1.21],\n",
              "       [ 0.27, -0.92],\n",
              "       [ 0.13,  0.99],\n",
              "       [-0.99,  1.18],\n",
              "       [ 0.21, -0.25],\n",
              "       [-0.7 ,  2.13],\n",
              "       [ 0.54, -1.59],\n",
              "       [-1.52, -0.64],\n",
              "       [-1.08, -0.06],\n",
              "       [ 0.13, -1.69],\n",
              "       [ 0.3 , -0.06],\n",
              "       [-1.4 , -0.25],\n",
              "       [ 0.27,  0.7 ],\n",
              "       [ 0.39, -0.83],\n",
              "       [-1.08,  1.85],\n",
              "       [ 0.04,  0.22],\n",
              "       [ 1.53,  1.85],\n",
              "       [ 0.51, -0.73],\n",
              "       [-0.84, -0.44],\n",
              "       [-0.58, -0.25],\n",
              "       [ 1.24,  0.51],\n",
              "       [ 0.59, -1.02],\n",
              "       [-1.37, -1.69],\n",
              "       [-0.99,  1.08],\n",
              "       [ 1.39,  0.8 ],\n",
              "       [-1.31, -1.78],\n",
              "       [-1.02,  0.99],\n",
              "       [-1.11,  0.8 ],\n",
              "       [ 0.04, -0.06],\n",
              "       [-0.55,  0.03],\n",
              "       [ 0.48, -1.69],\n",
              "       [ 0.45, -0.92],\n",
              "       [ 0.3 , -1.11],\n",
              "       [-0.34, -0.25],\n",
              "       [ 0.86, -0.16],\n",
              "       [-0.43,  0.03],\n",
              "       [-0.02, -0.44],\n",
              "       [-1.23, -1.4 ],\n",
              "       [-0.76,  1.18],\n",
              "       [ 2.  ,  1.37],\n",
              "       [-1.31, -0.25],\n",
              "       [-0.67,  0.89],\n",
              "       [ 0.3 , -0.06],\n",
              "       [-0.55, -0.44],\n",
              "       [ 1.48, -0.54],\n",
              "       [ 2.18, -0.06],\n",
              "       [ 0.27, -0.73],\n",
              "       [ 0.59,  0.42],\n",
              "       [-1.52, -0.54],\n",
              "       [ 0.15,  0.22],\n",
              "       [-1.05, -0.64],\n",
              "       [-1.28,  0.7 ],\n",
              "       [ 0.48,  1.08],\n",
              "       [-0.52, -1.11],\n",
              "       [-0.43, -0.25],\n",
              "       [ 1.3 ,  1.37],\n",
              "       [ 0.33, -1.5 ],\n",
              "       [-0.76, -1.88],\n",
              "       [ 1.42, -0.64],\n",
              "       [-0.55,  0.32],\n",
              "       [ 0.59, -1.21],\n",
              "       [ 0.33, -1.11],\n",
              "       [-0.9 ,  1.66],\n",
              "       [-1.08,  0.99],\n",
              "       [-0.76, -0.25],\n",
              "       [-0.37, -0.25],\n",
              "       [-1.14, -1.02],\n",
              "       [-0.43, -1.3 ],\n",
              "       [ 0.04, -0.64],\n",
              "       [-0.26,  0.22],\n",
              "       [ 0.57, -1.3 ],\n",
              "       [-1.17, -1.11],\n",
              "       [ 0.15,  0.42],\n",
              "       [ 1.89,  0.13],\n",
              "       [ 0.57,  1.08],\n",
              "       [ 0.01, -0.06],\n",
              "       [-0.9 , -0.25],\n",
              "       [-1.26, -1.3 ],\n",
              "       [-0.46,  0.42],\n",
              "       [-0.14,  0.03],\n",
              "       [ 2.  ,  0.99],\n",
              "       [ 0.27,  0.13],\n",
              "       [ 1.77,  2.04],\n",
              "       [-0.58,  0.03],\n",
              "       [-0.05, -1.59],\n",
              "       [-1.46, -1.02],\n",
              "       [ 1.89,  1.27],\n",
              "       [-0.29,  1.75],\n",
              "       [ 0.54, -1.02],\n",
              "       [-1.2 ,  0.99],\n",
              "       [ 1.27,  0.89],\n",
              "       [ 0.1 ,  0.13],\n",
              "       [ 0.59,  0.99],\n",
              "       [ 0.04,  0.03],\n",
              "       [-1.08, -1.21],\n",
              "       [-1.43,  1.37],\n",
              "       [-1.61, -1.11],\n",
              "       [ 1.89,  0.99],\n",
              "       [-1.58, -1.59],\n",
              "       [-0.2 , -1.4 ],\n",
              "       [-0.84,  0.99],\n",
              "       [-0.11, -1.4 ],\n",
              "       [ 0.04,  0.13],\n",
              "       [ 1.12,  2.13],\n",
              "       [ 1.53,  0.13],\n",
              "       [ 1.01,  1.47],\n",
              "       [-0.37,  0.22],\n",
              "       [ 0.39, -0.83],\n",
              "       [-0.14,  0.42],\n",
              "       [-0.79, -0.35],\n",
              "       [-1.26, -0.25],\n",
              "       [-1.37, -1.3 ],\n",
              "       [ 0.04, -0.25],\n",
              "       [ 1.65, -0.16],\n",
              "       [ 0.15, -0.16],\n",
              "       [ 0.13,  1.85],\n",
              "       [ 0.42, -0.92],\n",
              "       [-0.93,  1.94],\n",
              "       [-0.52, -1.88],\n",
              "       [ 2.12,  0.22],\n",
              "       [-0.81,  2.04],\n",
              "       [ 0.13, -0.06],\n",
              "       [ 0.77,  0.13],\n",
              "       [-0.14,  1.08],\n",
              "       [-1.37,  0.89],\n",
              "       [-0.14, -0.25],\n",
              "       [ 0.07,  0.32],\n",
              "       [ 1.12,  1.56],\n",
              "       [ 0.68, -0.06],\n",
              "       [-0.2 , -0.16],\n",
              "       [-1.43, -1.78],\n",
              "       [-0.58,  0.03],\n",
              "       [-0.26,  0.03],\n",
              "       [-0.32,  0.13],\n",
              "       [ 1.36, -0.73],\n",
              "       [ 1.39, -0.54],\n",
              "       [ 0.15,  0.13],\n",
              "       [-0.67,  1.94],\n",
              "       [ 1.42, -1.11],\n",
              "       [ 1.09,  0.22],\n",
              "       [-1.23, -0.44],\n",
              "       [-0.32,  0.8 ],\n",
              "       [-0.79, -1.11],\n",
              "       [ 0.54,  1.18],\n",
              "       [ 1.62, -0.16],\n",
              "       [ 0.24, -0.06],\n",
              "       [ 1.92, -0.73],\n",
              "       [-0.05, -1.88],\n",
              "       [ 0.95,  2.13],\n",
              "       [-0.79, -0.44],\n",
              "       [ 1.45,  0.99],\n",
              "       [ 0.01,  1.56],\n",
              "       [ 0.89, -0.54],\n",
              "       [ 2.18,  1.94],\n",
              "       [ 2.15,  2.04],\n",
              "       [-0.96, -0.92],\n",
              "       [ 0.27,  0.8 ],\n",
              "       [-0.52, -0.16],\n",
              "       [ 0.15, -0.25],\n",
              "       [-1.46, -0.25],\n",
              "       [-0.43, -0.06],\n",
              "       [ 0.04,  0.03],\n",
              "       [ 0.07, -0.35],\n",
              "       [ 2.24, -0.06],\n",
              "       [-1.05,  2.13],\n",
              "       [-0.29, -0.44],\n",
              "       [ 0.48, -1.88],\n",
              "       [-1.28,  1.85],\n",
              "       [-0.79, -0.83],\n",
              "       [-1.49, -1.78],\n",
              "       [-0.34, -1.02],\n",
              "       [-0.79, -0.83],\n",
              "       [ 1.77,  1.66],\n",
              "       [ 0.57, -0.64],\n",
              "       [ 1.27,  0.03],\n",
              "       [-1.4 ,  0.7 ],\n",
              "       [ 0.21, -0.06],\n",
              "       [-0.67, -0.25],\n",
              "       [-0.46, -0.16],\n",
              "       [-0.76, -0.92],\n",
              "       [ 1.33, -0.35],\n",
              "       [ 2.36, -0.54],\n",
              "       [-1.11,  0.7 ],\n",
              "       [-1.08, -0.16],\n",
              "       [-1.02, -1.11],\n",
              "       [ 1.56, -0.92],\n",
              "       [ 0.04,  0.13],\n",
              "       [ 1.74,  0.51],\n",
              "       [-0.05, -0.64],\n",
              "       [ 0.07,  1.47],\n",
              "       [ 0.42, -1.11],\n",
              "       [ 1.01,  1.56],\n",
              "       [ 0.74,  1.94],\n",
              "       [-0.52,  0.32],\n",
              "       [-1.61, -1.11],\n",
              "       [ 0.27, -0.25],\n",
              "       [-1.23,  1.08],\n",
              "       [-1.23, -0.83],\n",
              "       [-0.26, -0.83],\n",
              "       [-0.32,  0.32],\n",
              "       [-0.32, -0.92],\n",
              "       [-0.67, -0.83],\n",
              "       [ 0.27,  0.42],\n",
              "       [ 1.89,  0.13],\n",
              "       [-1.17,  0.32],\n",
              "       [ 0.54,  1.08],\n",
              "       [ 0.07,  0.32],\n",
              "       [-1.14, -0.44],\n",
              "       [ 0.8 , -0.25],\n",
              "       [ 0.18, -0.64],\n",
              "       [-0.58,  0.89]])"
            ]
          },
          "metadata": {},
          "execution_count": 33
        }
      ]
    },
    {
      "cell_type": "code",
      "source": [
        "y_pred=modelsvc.predict(x_test)\n",
        "np.set_printoptions(precision=2)\n",
        "print(np.concatenate((y_pred.reshape(len(y_pred),1),y_test.reshape(len(y_test),1)),1))"
      ],
      "metadata": {
        "colab": {
          "base_uri": "https://localhost:8080/"
        },
        "id": "61BMODhQXt5l",
        "outputId": "a6bda906-8149-405a-f3b2-bcb87893f063"
      },
      "execution_count": 34,
      "outputs": [
        {
          "output_type": "stream",
          "name": "stdout",
          "text": [
            "[[1 0]\n",
            " [1 1]\n",
            " [1 1]\n",
            " [0 0]\n",
            " [0 0]\n",
            " [0 0]\n",
            " [1 1]\n",
            " [0 0]\n",
            " [1 0]\n",
            " [0 0]\n",
            " [0 0]\n",
            " [0 0]\n",
            " [1 1]\n",
            " [0 0]\n",
            " [0 0]\n",
            " [0 0]\n",
            " [0 0]\n",
            " [0 0]\n",
            " [1 1]\n",
            " [0 0]\n",
            " [0 0]\n",
            " [0 0]\n",
            " [0 0]\n",
            " [0 0]\n",
            " [1 0]\n",
            " [0 0]\n",
            " [0 0]\n",
            " [1 1]\n",
            " [0 0]\n",
            " [1 1]\n",
            " [1 1]\n",
            " [0 0]\n",
            " [1 1]\n",
            " [1 0]\n",
            " [0 0]\n",
            " [0 0]\n",
            " [1 1]\n",
            " [0 0]\n",
            " [0 1]\n",
            " [0 0]\n",
            " [1 1]\n",
            " [1 1]\n",
            " [1 1]\n",
            " [0 0]\n",
            " [1 1]\n",
            " [0 0]\n",
            " [0 0]\n",
            " [1 1]\n",
            " [0 0]\n",
            " [0 0]\n",
            " [0 0]\n",
            " [0 0]\n",
            " [0 0]\n",
            " [0 1]\n",
            " [1 1]\n",
            " [0 1]\n",
            " [0 0]\n",
            " [1 1]\n",
            " [0 0]\n",
            " [0 0]\n",
            " [0 0]\n",
            " [1 1]\n",
            " [1 0]\n",
            " [0 0]\n",
            " [0 0]\n",
            " [0 1]\n",
            " [1 0]\n",
            " [1 1]\n",
            " [0 0]\n",
            " [1 1]\n",
            " [0 0]\n",
            " [1 1]\n",
            " [0 0]\n",
            " [0 0]\n",
            " [0 0]\n",
            " [0 0]\n",
            " [0 0]\n",
            " [0 0]\n",
            " [0 0]\n",
            " [0 0]]\n"
          ]
        }
      ]
    },
    {
      "cell_type": "code",
      "source": [
        "print(\"Predicted value for training data:\",modelsvc.score(x_train,y_train))\n",
        "print(\"Training accuracy:\",modelsvc.score(x_train,y_train)*100)"
      ],
      "metadata": {
        "colab": {
          "base_uri": "https://localhost:8080/"
        },
        "id": "2AjH0YMUXvzn",
        "outputId": "9cfee9eb-3639-4a0c-a27b-073a7785f33e"
      },
      "execution_count": 35,
      "outputs": [
        {
          "output_type": "stream",
          "name": "stdout",
          "text": [
            "Predicted value for training data: 0.91875\n",
            "Training accuracy: 91.875\n"
          ]
        }
      ]
    },
    {
      "cell_type": "code",
      "source": [
        "print(\"Predicted value for testing data:\",modelsvc.score(x_test,y_test))\n",
        "print(\"Testing accuracy:\",modelsvc.score(x_test,y_test)*100)"
      ],
      "metadata": {
        "colab": {
          "base_uri": "https://localhost:8080/"
        },
        "id": "WqP9p5bKXyQT",
        "outputId": "05dc5ab2-7f66-4e3e-d4e4-f768f5c47b54"
      },
      "execution_count": 36,
      "outputs": [
        {
          "output_type": "stream",
          "name": "stdout",
          "text": [
            "Predicted value for testing data: 0.875\n",
            "Testing accuracy: 87.5\n"
          ]
        }
      ]
    },
    {
      "cell_type": "code",
      "source": [
        "accuracy=modelsvc.score(x,y)*100\n",
        "print(accuracy)"
      ],
      "metadata": {
        "colab": {
          "base_uri": "https://localhost:8080/"
        },
        "id": "rCQWZwDJX2Hv",
        "outputId": "ac87f3e9-ca52-48d4-e23f-23068bd1482d"
      },
      "execution_count": 37,
      "outputs": [
        {
          "output_type": "stream",
          "name": "stdout",
          "text": [
            "91.0\n"
          ]
        }
      ]
    },
    {
      "cell_type": "code",
      "source": [
        "from sklearn.metrics import confusion_matrix,accuracy_score\n",
        "cm=confusion_matrix(y_test,y_pred)\n",
        "print(cm)\n",
        "accuracy_score(y_test,y_pred)\n"
      ],
      "metadata": {
        "colab": {
          "base_uri": "https://localhost:8080/"
        },
        "id": "NmSeTGFtX3y5",
        "outputId": "d0463949-f065-4d3b-fb6d-7ecf2bd7f16c"
      },
      "execution_count": 38,
      "outputs": [
        {
          "output_type": "stream",
          "name": "stdout",
          "text": [
            "[[49  6]\n",
            " [ 4 21]]\n"
          ]
        },
        {
          "output_type": "execute_result",
          "data": {
            "text/plain": [
              "0.875"
            ]
          },
          "metadata": {},
          "execution_count": 38
        }
      ]
    },
    {
      "cell_type": "code",
      "source": [
        "from sklearn.ensemble import RandomForestClassifier\n",
        "modelrf=RandomForestClassifier()"
      ],
      "metadata": {
        "id": "OnP_yTP0X6cD"
      },
      "execution_count": 39,
      "outputs": []
    },
    {
      "cell_type": "code",
      "source": [
        "modelrf.fit(x_train,y_train)"
      ],
      "metadata": {
        "colab": {
          "base_uri": "https://localhost:8080/"
        },
        "id": "HC6vYpqqX8kh",
        "outputId": "67f771fc-537f-4a18-87ad-11e2569cb429"
      },
      "execution_count": 40,
      "outputs": [
        {
          "output_type": "execute_result",
          "data": {
            "text/plain": [
              "RandomForestClassifier()"
            ]
          },
          "metadata": {},
          "execution_count": 40
        }
      ]
    },
    {
      "cell_type": "code",
      "source": [
        "y_pred=modelrf.predict(x_test)\n",
        "np.set_printoptions(precision=2)\n",
        "print(np.concatenate((y_pred.reshape(len(y_pred),1),y_test.reshape(len(y_test),1)),1))"
      ],
      "metadata": {
        "colab": {
          "base_uri": "https://localhost:8080/"
        },
        "id": "wa9niJixX-xh",
        "outputId": "43c1acbc-49af-4a71-a29c-77894901db4c"
      },
      "execution_count": 41,
      "outputs": [
        {
          "output_type": "stream",
          "name": "stdout",
          "text": [
            "[[1 0]\n",
            " [1 1]\n",
            " [1 1]\n",
            " [0 0]\n",
            " [0 0]\n",
            " [0 0]\n",
            " [1 1]\n",
            " [0 0]\n",
            " [1 0]\n",
            " [0 0]\n",
            " [0 0]\n",
            " [0 0]\n",
            " [1 1]\n",
            " [0 0]\n",
            " [0 0]\n",
            " [0 0]\n",
            " [0 0]\n",
            " [0 0]\n",
            " [1 1]\n",
            " [0 0]\n",
            " [0 0]\n",
            " [0 0]\n",
            " [0 0]\n",
            " [0 0]\n",
            " [1 0]\n",
            " [0 0]\n",
            " [0 0]\n",
            " [1 1]\n",
            " [0 0]\n",
            " [1 1]\n",
            " [1 1]\n",
            " [0 0]\n",
            " [1 1]\n",
            " [1 0]\n",
            " [0 0]\n",
            " [0 0]\n",
            " [1 1]\n",
            " [0 0]\n",
            " [0 1]\n",
            " [0 0]\n",
            " [1 1]\n",
            " [1 1]\n",
            " [1 1]\n",
            " [0 0]\n",
            " [1 1]\n",
            " [1 0]\n",
            " [0 0]\n",
            " [1 1]\n",
            " [0 0]\n",
            " [0 0]\n",
            " [0 0]\n",
            " [0 0]\n",
            " [0 0]\n",
            " [0 1]\n",
            " [1 1]\n",
            " [0 1]\n",
            " [0 0]\n",
            " [1 1]\n",
            " [0 0]\n",
            " [0 0]\n",
            " [0 0]\n",
            " [1 1]\n",
            " [1 0]\n",
            " [0 0]\n",
            " [0 0]\n",
            " [0 1]\n",
            " [0 0]\n",
            " [1 1]\n",
            " [0 0]\n",
            " [1 1]\n",
            " [0 0]\n",
            " [1 1]\n",
            " [0 0]\n",
            " [0 0]\n",
            " [0 0]\n",
            " [0 0]\n",
            " [0 0]\n",
            " [0 0]\n",
            " [0 0]\n",
            " [0 0]]\n"
          ]
        }
      ]
    },
    {
      "cell_type": "code",
      "source": [
        "print(\"Predicted value for training data:\",modelrf.score(x_train,y_train))\n",
        "print(\"Training accuracy:\",modelrf.score(x_train,y_train)*100)"
      ],
      "metadata": {
        "colab": {
          "base_uri": "https://localhost:8080/"
        },
        "id": "HUwvwxeIYBac",
        "outputId": "76885b47-ef17-4570-b4c3-16bea2b12fc6"
      },
      "execution_count": 42,
      "outputs": [
        {
          "output_type": "stream",
          "name": "stdout",
          "text": [
            "Predicted value for training data: 0.99375\n",
            "Training accuracy: 99.375\n"
          ]
        }
      ]
    },
    {
      "cell_type": "code",
      "source": [
        "print(\"Predicted value for testing data:\",modelrf.score(x_test,y_test))\n",
        "print(\"Testing accuracy:\",modelrf.score(x_test,y_test)*100)"
      ],
      "metadata": {
        "colab": {
          "base_uri": "https://localhost:8080/"
        },
        "id": "6borpsK_YDbV",
        "outputId": "c140ae5a-c094-463b-91ab-0758d70cd1fb"
      },
      "execution_count": 43,
      "outputs": [
        {
          "output_type": "stream",
          "name": "stdout",
          "text": [
            "Predicted value for testing data: 0.875\n",
            "Testing accuracy: 87.5\n"
          ]
        }
      ]
    },
    {
      "cell_type": "code",
      "source": [
        "accuracy=modelrf.score(x,y)*100\n",
        "print(accuracy)"
      ],
      "metadata": {
        "colab": {
          "base_uri": "https://localhost:8080/"
        },
        "id": "laAdvoxZYIXC",
        "outputId": "0c4b4d2e-5085-456f-d5a5-916f96153abe"
      },
      "execution_count": 44,
      "outputs": [
        {
          "output_type": "stream",
          "name": "stdout",
          "text": [
            "97.0\n"
          ]
        }
      ]
    },
    {
      "cell_type": "code",
      "source": [
        "from sklearn.metrics import confusion_matrix,accuracy_score\n",
        "cm=confusion_matrix(y_test,y_pred)\n",
        "print(cm)\n",
        "accuracy_score(y_test,y_pred)"
      ],
      "metadata": {
        "colab": {
          "base_uri": "https://localhost:8080/"
        },
        "id": "3ajJFNcwYJ8_",
        "outputId": "136f5aea-1fba-4803-c1da-beca34a22bb8"
      },
      "execution_count": 45,
      "outputs": [
        {
          "output_type": "stream",
          "name": "stdout",
          "text": [
            "[[49  6]\n",
            " [ 4 21]]\n"
          ]
        },
        {
          "output_type": "execute_result",
          "data": {
            "text/plain": [
              "0.875"
            ]
          },
          "metadata": {},
          "execution_count": 45
        }
      ]
    },
    {
      "cell_type": "code",
      "source": [
        "from sklearn.linear_model import LogisticRegression\n",
        "modellc=LogisticRegression()\n"
      ],
      "metadata": {
        "id": "TgkBztGhYLib"
      },
      "execution_count": 46,
      "outputs": []
    },
    {
      "cell_type": "code",
      "source": [
        "modellc.fit(x_train,y_train)"
      ],
      "metadata": {
        "colab": {
          "base_uri": "https://localhost:8080/"
        },
        "id": "HaHoj-TsYNte",
        "outputId": "9f4e8da5-3ba4-4d37-b1c5-b82ac43a5d3e"
      },
      "execution_count": 47,
      "outputs": [
        {
          "output_type": "execute_result",
          "data": {
            "text/plain": [
              "LogisticRegression()"
            ]
          },
          "metadata": {},
          "execution_count": 47
        }
      ]
    },
    {
      "cell_type": "code",
      "source": [
        "import numpy as np\n",
        "y_pred=modellc.predict(x_test)\n",
        "#np.set_printoptions(precision=2)\n",
        "print(np.concatenate((y_pred.reshape(len(y_pred),1),y_test.reshape(len(y_test),1)),1))"
      ],
      "metadata": {
        "colab": {
          "base_uri": "https://localhost:8080/"
        },
        "id": "eo2yxAUFYgQe",
        "outputId": "7861a6e3-9db6-4fa7-8ac8-f44f4ba6a6e4"
      },
      "execution_count": 50,
      "outputs": [
        {
          "output_type": "stream",
          "name": "stdout",
          "text": [
            "[[1 0]\n",
            " [0 1]\n",
            " [1 1]\n",
            " [0 0]\n",
            " [0 0]\n",
            " [0 0]\n",
            " [1 1]\n",
            " [0 0]\n",
            " [0 0]\n",
            " [0 0]\n",
            " [0 0]\n",
            " [0 0]\n",
            " [1 1]\n",
            " [0 0]\n",
            " [0 0]\n",
            " [0 0]\n",
            " [0 0]\n",
            " [0 0]\n",
            " [1 1]\n",
            " [0 0]\n",
            " [0 0]\n",
            " [0 0]\n",
            " [0 0]\n",
            " [0 0]\n",
            " [0 0]\n",
            " [0 0]\n",
            " [0 0]\n",
            " [1 1]\n",
            " [0 0]\n",
            " [0 1]\n",
            " [1 1]\n",
            " [0 0]\n",
            " [1 1]\n",
            " [1 0]\n",
            " [0 0]\n",
            " [0 0]\n",
            " [0 1]\n",
            " [0 0]\n",
            " [0 1]\n",
            " [0 0]\n",
            " [1 1]\n",
            " [0 1]\n",
            " [1 1]\n",
            " [0 0]\n",
            " [1 1]\n",
            " [0 0]\n",
            " [0 0]\n",
            " [1 1]\n",
            " [0 0]\n",
            " [0 0]\n",
            " [0 0]\n",
            " [0 0]\n",
            " [0 0]\n",
            " [0 1]\n",
            " [0 1]\n",
            " [1 1]\n",
            " [0 0]\n",
            " [1 1]\n",
            " [0 0]\n",
            " [0 0]\n",
            " [0 0]\n",
            " [1 1]\n",
            " [1 0]\n",
            " [0 0]\n",
            " [0 0]\n",
            " [0 1]\n",
            " [1 0]\n",
            " [1 1]\n",
            " [0 0]\n",
            " [1 1]\n",
            " [0 0]\n",
            " [1 1]\n",
            " [0 0]\n",
            " [0 0]\n",
            " [0 0]\n",
            " [0 0]\n",
            " [0 0]\n",
            " [0 0]\n",
            " [0 0]\n",
            " [0 0]]\n"
          ]
        }
      ]
    },
    {
      "cell_type": "code",
      "source": [
        "print(\"Predicted value for training data:\",modellc.score(x_train,y_train))\n",
        "print(\"Training accuracy:\",modellc.score(x_train,y_train)*100)"
      ],
      "metadata": {
        "colab": {
          "base_uri": "https://localhost:8080/"
        },
        "id": "Soj8B5FqYilj",
        "outputId": "df050112-aec2-46ea-9ec5-564a33b83fbb"
      },
      "execution_count": 49,
      "outputs": [
        {
          "output_type": "stream",
          "name": "stdout",
          "text": [
            "Predicted value for training data: 0.84375\n",
            "Training accuracy: 84.375\n"
          ]
        }
      ]
    },
    {
      "cell_type": "code",
      "source": [
        "print(\"Predicted value for testing data:\",modellc.score(x_test,y_test))\n",
        "print(\"Testing accuracy:\",modellc.score(x_test,y_test)*100)"
      ],
      "metadata": {
        "colab": {
          "base_uri": "https://localhost:8080/"
        },
        "id": "NvW6Ksh6Ykmy",
        "outputId": "5b519f00-fb33-4f29-85cf-5053e46a3a5a"
      },
      "execution_count": 51,
      "outputs": [
        {
          "output_type": "stream",
          "name": "stdout",
          "text": [
            "Predicted value for testing data: 0.85\n",
            "Testing accuracy: 85.0\n"
          ]
        }
      ]
    },
    {
      "cell_type": "code",
      "source": [
        "accuracy=modellc.score(x,y)*100\n",
        "print(accuracy)"
      ],
      "metadata": {
        "colab": {
          "base_uri": "https://localhost:8080/"
        },
        "id": "wnEBfCeTYvuM",
        "outputId": "0f6da3ea-14e7-40bd-c375-d171211a9331"
      },
      "execution_count": 52,
      "outputs": [
        {
          "output_type": "stream",
          "name": "stdout",
          "text": [
            "84.5\n"
          ]
        }
      ]
    },
    {
      "cell_type": "code",
      "source": [
        "from sklearn.neighbors import KNeighborsClassifier\n",
        "modelknn=KNeighborsClassifier()"
      ],
      "metadata": {
        "id": "BnfYERL5YzLK"
      },
      "execution_count": 53,
      "outputs": []
    },
    {
      "cell_type": "code",
      "source": [
        "modelknn.fit(x_train,y_train)"
      ],
      "metadata": {
        "colab": {
          "base_uri": "https://localhost:8080/"
        },
        "id": "c7naHhyvY11G",
        "outputId": "97433134-fabb-4dda-c2ac-31e7100dd11e"
      },
      "execution_count": 54,
      "outputs": [
        {
          "output_type": "execute_result",
          "data": {
            "text/plain": [
              "KNeighborsClassifier()"
            ]
          },
          "metadata": {},
          "execution_count": 54
        }
      ]
    },
    {
      "cell_type": "code",
      "source": [
        "import numpy as np\n",
        "y_pred=modelknn.predict(x_test)\n",
        "np.set_printoptions(precision=2)\n",
        "print(np.concatenate((y_pred.reshape(len(y_pred),1),y_test.reshape(len(y_test),1)),1))"
      ],
      "metadata": {
        "colab": {
          "base_uri": "https://localhost:8080/"
        },
        "id": "-kyV9hI0Y6ZZ",
        "outputId": "51776c6b-34ff-45cf-f219-f7a74dcaa257"
      },
      "execution_count": 55,
      "outputs": [
        {
          "output_type": "stream",
          "name": "stdout",
          "text": [
            "[[0 0]\n",
            " [1 1]\n",
            " [1 1]\n",
            " [0 0]\n",
            " [0 0]\n",
            " [0 0]\n",
            " [1 1]\n",
            " [0 0]\n",
            " [1 0]\n",
            " [0 0]\n",
            " [0 0]\n",
            " [0 0]\n",
            " [1 1]\n",
            " [0 0]\n",
            " [0 0]\n",
            " [0 0]\n",
            " [0 0]\n",
            " [0 0]\n",
            " [1 1]\n",
            " [0 0]\n",
            " [0 0]\n",
            " [0 0]\n",
            " [0 0]\n",
            " [0 0]\n",
            " [1 0]\n",
            " [0 0]\n",
            " [0 0]\n",
            " [1 1]\n",
            " [0 0]\n",
            " [1 1]\n",
            " [1 1]\n",
            " [0 0]\n",
            " [1 1]\n",
            " [1 0]\n",
            " [0 0]\n",
            " [0 0]\n",
            " [1 1]\n",
            " [0 0]\n",
            " [1 1]\n",
            " [0 0]\n",
            " [1 1]\n",
            " [1 1]\n",
            " [1 1]\n",
            " [0 0]\n",
            " [1 1]\n",
            " [0 0]\n",
            " [0 0]\n",
            " [1 1]\n",
            " [0 0]\n",
            " [0 0]\n",
            " [0 0]\n",
            " [0 0]\n",
            " [0 0]\n",
            " [0 1]\n",
            " [1 1]\n",
            " [0 1]\n",
            " [0 0]\n",
            " [1 1]\n",
            " [0 0]\n",
            " [0 0]\n",
            " [0 0]\n",
            " [1 1]\n",
            " [1 0]\n",
            " [0 0]\n",
            " [0 0]\n",
            " [0 1]\n",
            " [1 0]\n",
            " [1 1]\n",
            " [0 0]\n",
            " [1 1]\n",
            " [0 0]\n",
            " [1 1]\n",
            " [0 0]\n",
            " [0 0]\n",
            " [0 0]\n",
            " [0 0]\n",
            " [0 0]\n",
            " [0 0]\n",
            " [0 0]\n",
            " [0 0]]\n"
          ]
        }
      ]
    },
    {
      "cell_type": "code",
      "source": [
        "print(\"Predicted value for training data:\",modelknn.score(x_train,y_train))\n",
        "print(\"Training accuracy:\",modelknn.score(x_train,y_train)*100)"
      ],
      "metadata": {
        "colab": {
          "base_uri": "https://localhost:8080/"
        },
        "id": "EtzU2gklY8Kt",
        "outputId": "dbbb69c3-d22c-4a32-b058-02afc488b832"
      },
      "execution_count": 56,
      "outputs": [
        {
          "output_type": "stream",
          "name": "stdout",
          "text": [
            "Predicted value for training data: 0.915625\n",
            "Training accuracy: 91.5625\n"
          ]
        }
      ]
    },
    {
      "cell_type": "code",
      "source": [
        "print(\"Predicted value for testing data:\",modelknn.score(x_test,y_test))\n",
        "print(\"Testing accuracy:\",modelknn.score(x_test,y_test)*100)"
      ],
      "metadata": {
        "colab": {
          "base_uri": "https://localhost:8080/"
        },
        "id": "40kwLpFtY-HB",
        "outputId": "647444c7-6b1f-46ce-ae12-9bac3bf84e22"
      },
      "execution_count": 57,
      "outputs": [
        {
          "output_type": "stream",
          "name": "stdout",
          "text": [
            "Predicted value for testing data: 0.9\n",
            "Testing accuracy: 90.0\n"
          ]
        }
      ]
    },
    {
      "cell_type": "code",
      "source": [
        "accuracy=modelknn.score(x,y)*100\n",
        "print(accuracy)"
      ],
      "metadata": {
        "colab": {
          "base_uri": "https://localhost:8080/"
        },
        "id": "RaQZPgdtZAfK",
        "outputId": "fb1e0d3f-db7f-4f92-db05-937f3af053b0"
      },
      "execution_count": 58,
      "outputs": [
        {
          "output_type": "stream",
          "name": "stdout",
          "text": [
            "91.25\n"
          ]
        }
      ]
    },
    {
      "cell_type": "code",
      "source": [
        "import matplotlib.pyplot as plt\n",
        "fig = plt.figure()\n",
        "ax = fig.add_axes([0,0,1,1])\n",
        "algo = ['logistic regression','knn','Naive Bayes','SVM','Descision Tree','Random Forest']\n",
        "accuracy = [modellc.score(x,y),modelknn.score(x,y),model.score(x,y),modelsvc.score(x,y),modeldt.score(x,y),modelrf.score(x,y)]\n",
        "ax.bar(algo[0],accuracy[0],color = 'g')\n",
        "ax.bar(algo[1],accuracy[1],color = 'b')\n",
        "ax.bar(algo[2],accuracy[2],color = 'y')\n",
        "ax.bar(algo[3],accuracy[3],color = 'r')\n",
        "ax.bar(algo[4],accuracy[4],color = 'y')\n",
        "ax.bar(algo[5],accuracy[5],color = 'r')\n",
        "plt.xlabel('Classifiers ----->')\n",
        "plt.ylabel('Accuracies ---->')\n",
        "plt.title('ACCURACIES RESULTED')\n",
        "plt.show()"
      ],
      "metadata": {
        "colab": {
          "base_uri": "https://localhost:8080/",
          "height": 366
        },
        "id": "5Z239RAkZCFi",
        "outputId": "4a369241-af9d-4299-b3f2-ffc713e5291f"
      },
      "execution_count": 59,
      "outputs": [
        {
          "output_type": "display_data",
          "data": {
            "text/plain": [
              "<Figure size 432x288 with 1 Axes>"
            ],
            "image/png": "[encoded data removed]"
          },
          "metadata": {
            "needs_background": "light"
          }
        }
      ]
    },
    {
      "cell_type": "code",
      "source": [
        ""
      ],
      "metadata": {
        "id": "d97Zp7eiZE8K"
      },
      "execution_count": null,
      "outputs": []
    }
  ]
}