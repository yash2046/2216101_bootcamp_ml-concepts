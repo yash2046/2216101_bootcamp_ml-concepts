{
  "nbformat": 4,
  "nbformat_minor": 0,
  "metadata": {
    "colab": {
      "name": "string_countvectorizer.ipynb",
      "provenance": [],
      "authorship_tag": "ABX9TyOhy0daasSDfJYUqTDZNIGh",
      "include_colab_link": true
    },
    "kernelspec": {
      "name": "python3",
      "display_name": "Python 3"
    },
    "language_info": {
      "name": "python"
    }
  },
  "cells": [
    {
      "cell_type": "markdown",
      "metadata": {
        "id": "view-in-github",
        "colab_type": "text"
      },
      "source": [
        "<a href=\"https://colab.research.google.com/github/yash2046/2216101_bootcamp_ml-concepts/blob/main/string_countvectorizer.ipynb\" target=\"_parent\"><img src=\"https://colab.research.google.com/assets/colab-badge.svg\" alt=\"Open In Colab\"/></a>"
      ]
    },
    {
      "cell_type": "code",
      "execution_count": 1,
      "metadata": {
        "colab": {
          "base_uri": "https://localhost:8080/"
        },
        "id": "bzdqs7sDU-w2",
        "outputId": "8b19ba49-7184-4ef2-9a6a-74c55b112c68"
      },
      "outputs": [
        {
          "output_type": "execute_result",
          "data": {
            "text/plain": [
              "CountVectorizer()"
            ]
          },
          "metadata": {},
          "execution_count": 1
        }
      ],
      "source": [
        "import pandas as pd\n",
        "#Bag of words (Bow)-sklearn\n",
        "documents =['hello,how are you?',\n",
        "            'Win money win from home',\n",
        "            'Call me now',\n",
        "            'Hello Call hello you tomorrow?']\n",
        "from sklearn.feature_extraction.text import CountVectorizer\n",
        "cv=CountVectorizer()\n",
        "cv.fit(documents)"
      ]
    },
    {
      "cell_type": "code",
      "source": [
        "n=cv.get_feature_names()\n",
        "print(n)"
      ],
      "metadata": {
        "colab": {
          "base_uri": "https://localhost:8080/"
        },
        "id": "VZsip58EVE5r",
        "outputId": "6c79eacf-b037-41fa-a20a-84aa6274acbf"
      },
      "execution_count": 2,
      "outputs": [
        {
          "output_type": "stream",
          "name": "stdout",
          "text": [
            "['are', 'call', 'from', 'hello', 'home', 'how', 'me', 'money', 'now', 'tomorrow', 'win', 'you']\n"
          ]
        },
        {
          "output_type": "stream",
          "name": "stderr",
          "text": [
            "/usr/local/lib/python3.7/dist-packages/sklearn/utils/deprecation.py:87: FutureWarning: Function get_feature_names is deprecated; get_feature_names is deprecated in 1.0 and will be removed in 1.2. Please use get_feature_names_out instead.\n",
            "  warnings.warn(msg, category=FutureWarning)\n"
          ]
        }
      ]
    },
    {
      "cell_type": "code",
      "source": [
        "doc_array=cv.transform(documents).toarray()\n",
        "print(doc_array)"
      ],
      "metadata": {
        "colab": {
          "base_uri": "https://localhost:8080/"
        },
        "id": "MMqEYbUbVJMJ",
        "outputId": "7b8601bd-0744-448f-d705-6c00550ac6ce"
      },
      "execution_count": 3,
      "outputs": [
        {
          "output_type": "stream",
          "name": "stdout",
          "text": [
            "[[1 0 0 1 0 1 0 0 0 0 0 1]\n",
            " [0 0 1 0 1 0 0 1 0 0 2 0]\n",
            " [0 1 0 0 0 0 1 0 1 0 0 0]\n",
            " [0 1 0 2 0 0 0 0 0 1 0 1]]\n"
          ]
        }
      ]
    },
    {
      "cell_type": "code",
      "source": [
        "#converting this array into dataframe \n",
        "freq_table=pd.DataFrame(data=doc_array,columns=n)"
      ],
      "metadata": {
        "id": "BxC1IsHVVLGp"
      },
      "execution_count": 4,
      "outputs": []
    },
    {
      "cell_type": "code",
      "source": [
        "print(freq_table)"
      ],
      "metadata": {
        "colab": {
          "base_uri": "https://localhost:8080/"
        },
        "id": "ahtYOonLVNUr",
        "outputId": "04d8dc36-7527-4d95-f5f5-0b960c51142f"
      },
      "execution_count": 5,
      "outputs": [
        {
          "output_type": "stream",
          "name": "stdout",
          "text": [
            "   are  call  from  hello  home  how  me  money  now  tomorrow  win  you\n",
            "0    1     0     0      1     0    1   0      0    0         0    0    1\n",
            "1    0     0     1      0     1    0   0      1    0         0    2    0\n",
            "2    0     1     0      0     0    0   1      0    1         0    0    0\n",
            "3    0     1     0      2     0    0   0      0    0         1    0    1\n"
          ]
        }
      ]
    },
    {
      "cell_type": "code",
      "source": [
        ""
      ],
      "metadata": {
        "id": "ayqMhxkzVPuh"
      },
      "execution_count": null,
      "outputs": []
    }
  ]
}